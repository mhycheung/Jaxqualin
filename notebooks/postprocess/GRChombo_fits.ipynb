{
 "cells": [
  {
   "cell_type": "code",
   "execution_count": 5,
   "id": "7517a4a8-baf1-4dca-901f-cfc3a2e233b0",
   "metadata": {},
   "outputs": [],
   "source": [
    "import QuasinormalMode\n",
    "from QuasinormalMode import *\n",
    "import Waveforms\n",
    "from Waveforms import *\n",
    "import Fit\n",
    "from Fit import *\n",
    "import utils\n",
    "from utils import *\n",
    "import plot\n",
    "from plot import *\n",
    "import ModeSelection\n",
    "from ModeSelection import *\n",
    "import postprocess\n",
    "from postprocess import *\n",
    "import GRChombo_load\n",
    "from GRChombo_load import *\n",
    "from importlib import reload\n",
    "import matplotlib.pyplot as plt"
   ]
  },
  {
   "cell_type": "code",
   "execution_count": 9,
   "id": "3c9c413c-d37a-426c-a9fb-7b2bd72e97d2",
   "metadata": {},
   "outputs": [
    {
     "name": "stdout",
     "output_type": "stream",
     "text": [
      "reloaded fit GRChombo_gamma_3.2_l_2_varMa_free__t0_20.0000_20.0000_1 from an old run.\n"
     ]
    }
   ],
   "source": [
    "gammas = [3.2] #[1.2, 1.3, 1.4, 1.5, 1.75, 2, 2.3, 2.75, 3.2, 3.5, 4.2]\n",
    "ls = [2] #[2, 4, 6, 8, 10]\n",
    "massqnmdict, massqnmstddict = estimate_mass_for_all_simulations(gammas, ls, tstart=20, \n",
    "                                                                one_t = True, gamma_scale = False,\n",
    "                                                                t0_arr = np.array([20]))"
   ]
  },
  {
   "cell_type": "code",
   "execution_count": 10,
   "id": "0b6493a1-e1a9-4e6d-bc84-b89997f43b28",
   "metadata": {},
   "outputs": [],
   "source": [
    "massdict, masserrordict = read_mass()"
   ]
  },
  {
   "cell_type": "code",
   "execution_count": 12,
   "id": "8c01ce5d-e25d-431a-b9d3-0266b0c1fa1a",
   "metadata": {},
   "outputs": [
    {
     "data": {
      "text/plain": [
       "0.9061387817192745"
      ]
     },
     "execution_count": 12,
     "metadata": {},
     "output_type": "execute_result"
    }
   ],
   "source": [
    "massqnmdict[\"3.2\"][\"2\"]"
   ]
  }
 ],
 "metadata": {
  "kernelspec": {
   "display_name": "Jaxqualin",
   "language": "python",
   "name": "jaxqualin"
  },
  "language_info": {
   "codemirror_mode": {
    "name": "ipython",
    "version": 3
   },
   "file_extension": ".py",
   "mimetype": "text/x-python",
   "name": "python",
   "nbconvert_exporter": "python",
   "pygments_lexer": "ipython3",
   "version": "3.8.10"
  }
 },
 "nbformat": 4,
 "nbformat_minor": 5
}
