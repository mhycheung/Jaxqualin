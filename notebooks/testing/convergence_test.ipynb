{
 "cells": [
  {
   "cell_type": "code",
   "execution_count": 1,
   "metadata": {},
   "outputs": [
    {
     "name": "stderr",
     "output_type": "stream",
     "text": [
      "2023-03-08 14:40:07.926485: W external/org_tensorflow/tensorflow/compiler/xla/stream_executor/platform/default/dso_loader.cc:64] Could not load dynamic library 'libcudart.so.11.0'; dlerror: libcudart.so.11.0: cannot open shared object file: No such file or directory; LD_LIBRARY_PATH: /cm/shared/apps/slurm/current/lib64/slurm:/cm/shared/apps/slurm/current/lib64\n",
      "2023-03-08 14:40:07.969965: W external/org_tensorflow/tensorflow/compiler/xla/stream_executor/platform/default/dso_loader.cc:64] Could not load dynamic library 'libcudart.so.11.0'; dlerror: libcudart.so.11.0: cannot open shared object file: No such file or directory; LD_LIBRARY_PATH: /cm/shared/apps/slurm/current/lib64/slurm:/cm/shared/apps/slurm/current/lib64\n",
      "2023-03-08 14:40:07.972460: W external/org_tensorflow/tensorflow/compiler/xla/stream_executor/platform/default/dso_loader.cc:64] Could not load dynamic library 'libcudart.so.11.0'; dlerror: libcudart.so.11.0: cannot open shared object file: No such file or directory; LD_LIBRARY_PATH: /cm/shared/apps/slurm/current/lib64/slurm:/cm/shared/apps/slurm/current/lib64\n"
     ]
    }
   ],
   "source": [
    "from Fit import *\n",
    "from QuasinormalMode import *\n",
    "from Waveforms import *\n",
    "from ModeSelection import *\n",
    "import jax.numpy as jnp\n",
    "import matplotlib.pyplot as plt"
   ]
  },
  {
   "cell_type": "code",
   "execution_count": 2,
   "metadata": {},
   "outputs": [],
   "source": [
    "import random"
   ]
  },
  {
   "cell_type": "code",
   "execution_count": 3,
   "metadata": {},
   "outputs": [],
   "source": [
    "ROOT_PATH = globals()['_dh'][0]\n",
    "PLOT_PATH_ROOT = os.path.join(ROOT_PATH, f\"plots/\")"
   ]
  },
  {
   "cell_type": "code",
   "execution_count": 4,
   "metadata": {},
   "outputs": [],
   "source": [
    "i = 0\n",
    "ii = i\n",
    "batch_runname = \"eff2\"\n",
    "param_dict = read_json_for_param_dict(i, batch_runname)"
   ]
  },
  {
   "cell_type": "code",
   "execution_count": 5,
   "metadata": {},
   "outputs": [
    {
     "name": "stderr",
     "output_type": "stream",
     "text": [
      "2023-03-08 14:40:21.418171: W external/org_tensorflow/tensorflow/compiler/xla/stream_executor/platform/default/dso_loader.cc:64] Could not load dynamic library 'libcuda.so.1'; dlerror: libcuda.so.1: cannot open shared object file: No such file or directory; LD_LIBRARY_PATH: /cm/shared/apps/slurm/current/lib64/slurm:/cm/shared/apps/slurm/current/lib64\n",
      "2023-03-08 14:40:21.418209: W external/org_tensorflow/tensorflow/compiler/xla/stream_executor/cuda/cuda_driver.cc:265] failed call to cuInit: UNKNOWN ERROR (303)\n",
      "WARNING:absl:No GPU/TPU found, falling back to CPU. (Set TF_CPP_MIN_LOG_LEVEL=0 and rerun for more info.)\n"
     ]
    }
   ],
   "source": [
    "Mf = param_dict['Mf']\n",
    "af = param_dict['af']\n",
    "omega220, omega320, omega221, omegaconstant = long_str_to_qnms(\"2.2.0_3.2.0_2.2.1_constant\", Mf, af)\n",
    "A220, phi220 = param_dict['inj_dict'][\"2.2.0\"]\n",
    "A320, phi320 = param_dict['inj_dict'][\"3.2.0\"]\n",
    "A221, phi221 = param_dict['inj_dict'][\"2.2.1\"]\n",
    "Aconstant, phiconstant = param_dict['inj_dict'][\"constant\"]"
   ]
  },
  {
   "cell_type": "code",
   "execution_count": 6,
   "metadata": {},
   "outputs": [],
   "source": [
    "guess_list = [A220, phi220, float(omega220.omegar), float(omega220.omegai),\n",
    "              A320, phi320, float(omega320.omegar), float(omega320.omegai),\n",
    "              A221, phi221, float(omega221.omegar), float(omega221.omegai),\n",
    "              Aconstant, phiconstant, float(omegaconstant.omegar), float(omegaconstant.omegai),]"
   ]
  },
  {
   "cell_type": "code",
   "execution_count": 7,
   "metadata": {},
   "outputs": [],
   "source": [
    "h_eff = make_eff_ringdown_waveform_from_param(param_dict)"
   ]
  },
  {
   "cell_type": "code",
   "execution_count": 8,
   "metadata": {},
   "outputs": [],
   "source": [
    "N_free = 10\n",
    "guess_num = 100\n",
    "A_guesses = 10**(np.random.uniform(-4, 2, size = (guess_num, N_free)))\n",
    "phi_guesses = np.random.uniform(0, 2*np.pi, size = (guess_num, N_free))\n",
    "omegar_guesses = np.random.uniform(-2, 2, size = (guess_num, N_free))\n",
    "omegai_guesses = np.random.uniform(0, -1, size = (guess_num, N_free))"
   ]
  },
  {
   "cell_type": "code",
   "execution_count": 9,
   "metadata": {},
   "outputs": [],
   "source": [
    "guesses_stack = np.empty((guess_num, 4 * N_free), dtype = A_guesses.dtype)\n",
    "guesses_stack[:,0::4] = A_guesses \n",
    "guesses_stack[:,1::4] = phi_guesses \n",
    "guesses_stack[:,2::4] = omegar_guesses\n",
    "guesses_stack[:,3::4] = omegai_guesses"
   ]
  },
  {
   "cell_type": "code",
   "execution_count": 10,
   "metadata": {},
   "outputs": [],
   "source": [
    "guess_list = [list(guess) for guess in guesses_stack]"
   ]
  },
  {
   "cell_type": "code",
   "execution_count": 13,
   "metadata": {},
   "outputs": [
    {
     "name": "stdout",
     "output_type": "stream",
     "text": [
      "reloaded fit 0305_lm_22_convergence_test1_0_N_10_t0_0.0000_0.0000_1 from an old run.\n",
      "reloaded fit 0305_lm_22_convergence_test1_1_N_10_t0_0.0000_0.0000_1 from an old run.\n",
      "reloaded fit 0305_lm_22_convergence_test1_2_N_10_t0_0.0000_0.0000_1 from an old run.\n",
      "reloaded fit 0305_lm_22_convergence_test1_3_N_10_t0_0.0000_0.0000_1 from an old run.\n",
      "reloaded fit 0305_lm_22_convergence_test1_4_N_10_t0_0.0000_0.0000_1 from an old run.\n",
      "reloaded fit 0305_lm_22_convergence_test1_5_N_10_t0_0.0000_0.0000_1 from an old run.\n",
      "reloaded fit 0305_lm_22_convergence_test1_6_N_10_t0_0.0000_0.0000_1 from an old run.\n",
      "reloaded fit 0305_lm_22_convergence_test1_7_N_10_t0_0.0000_0.0000_1 from an old run.\n",
      "reloaded fit 0305_lm_22_convergence_test1_8_N_10_t0_0.0000_0.0000_1 from an old run.\n",
      "reloaded fit 0305_lm_22_convergence_test1_9_N_10_t0_0.0000_0.0000_1 from an old run.\n"
     ]
    }
   ],
   "source": [
    "N_free = 10\n",
    "guess_num = 10\n",
    "t0_arr = np.linspace(0, 0.1, num = 1)\n",
    "qnm_fixed_list = []\n",
    "N_fix = len(qnm_fixed_list)\n",
    "time_longest, _, _ = h_eff.postmerger(t0_arr[0])\n",
    "jcf = CurveFit(flength=2 * len(time_longest))\n",
    "fit_results = []\n",
    "fit_kwargs = {} #{'ftol': 1e-15, 'xtol': 1e-15, 'gtol': 1e-15}\n",
    "for i in range(guess_num):\n",
    "    params0 = jnp.array([1, 1] * N_fix + guess_list[i])\n",
    "    fitter = QNMFitVaryingStartingTime(h_eff, t0_arr, N_free = N_free,\n",
    "                                    qnm_fixed_list = qnm_fixed_list, jcf = jcf, load_pickle = True,\n",
    "                                    params0 = params0, \n",
    "                                    # run_string_prefix = f\"conv_test_g_{g:.4f}\",\n",
    "                                    run_string_prefix = f\"0305_lm_22_convergence_test1_{i}\",\n",
    "                                    fit_kwargs = fit_kwargs)\n",
    "    fitter.do_fits()\n",
    "    fit_results.append(fitter.result_full)\n",
    "    jcf = fitter.jcf\n"
   ]
  },
  {
   "cell_type": "code",
   "execution_count": 14,
   "metadata": {},
   "outputs": [],
   "source": [
    "mismatch_all = []\n",
    "for j, result_full in enumerate(fit_results):\n",
    "    mismatch = result_full.mismatch_arr\n",
    "    mismatch_all.append(mismatch[0])\n",
    "mismatch_all = np.array(mismatch_all)"
   ]
  },
  {
   "cell_type": "code",
   "execution_count": 5,
   "metadata": {},
   "outputs": [
    {
     "data": {
      "text/plain": [
       "17"
      ]
     },
     "execution_count": 5,
     "metadata": {},
     "output_type": "execute_result"
    }
   ],
   "source": [
    "from functools import partial \n",
    "\n",
    "def test_func(a, b, c, d, e =5):\n",
    "    return a + b + 2*c + d + e\n",
    "\n",
    "partial_func = partial(test_func, b = 3, c = 2, d = 4, e = 5)\n",
    "partial_func(1)"
   ]
  },
  {
   "cell_type": "code",
   "execution_count": 16,
   "metadata": {},
   "outputs": [
    {
     "data": {
      "text/plain": [
       "(array([6., 0., 0., 0., 0., 0., 0., 0., 0., 4.]),\n",
       " array([1.76957449e-10, 1.40121459e-09, 2.62547173e-09, 3.84972887e-09,\n",
       "        5.07398601e-09, 6.29824315e-09, 7.52250029e-09, 8.74675743e-09,\n",
       "        9.97101457e-09, 1.11952717e-08, 1.24195288e-08]),\n",
       " <BarContainer object of 10 artists>)"
      ]
     },
     "execution_count": 16,
     "metadata": {},
     "output_type": "execute_result"
    },
    {
     "data": {
      "image/png": "[encoded data removed]",
      "text/plain": [
       "<Figure size 640x480 with 1 Axes>"
      ]
     },
     "metadata": {},
     "output_type": "display_data"
    }
   ],
   "source": [
    "plt.hist(mismatch_all)"
   ]
  },
  {
   "cell_type": "code",
   "execution_count": 40,
   "metadata": {},
   "outputs": [
    {
     "data": {
      "text/plain": [
       "0.0025329516211914085"
      ]
     },
     "execution_count": 40,
     "metadata": {},
     "output_type": "execute_result"
    }
   ],
   "source": [
    "(1-45/100)**10"
   ]
  },
  {
   "cell_type": "code",
   "execution_count": 26,
   "metadata": {},
   "outputs": [
    {
     "data": {
      "text/plain": [
       "58"
      ]
     },
     "execution_count": 26,
     "metadata": {},
     "output_type": "execute_result"
    }
   ],
   "source": [
    "len(mismatch_all[mismatch_all < 1.001*np.amin(mismatch_all)])"
   ]
  },
  {
   "cell_type": "code",
   "execution_count": 34,
   "metadata": {},
   "outputs": [
    {
     "data": {
      "text/plain": [
       "(0.0, -0.4)"
      ]
     },
     "execution_count": 34,
     "metadata": {},
     "output_type": "execute_result"
    },
    {
     "data": {
      "image/png": "[encoded data removed]",
      "text/plain": [
       "<Figure size 640x480 with 1 Axes>"
      ]
     },
     "metadata": {},
     "output_type": "display_data"
    }
   ],
   "source": [
    "for j, result_full in enumerate(fit_results):\n",
    "    omega_dict = result_full.omega_dict\n",
    "    for i in range(N_free):\n",
    "        plt.scatter(omega_dict['real'][f'omega_r_free_{i}'], \n",
    "                    omega_dict['imag'][f'omega_i_free_{i}'], \n",
    "                    s = 5, c = f'C{j}', alpha = 0.01)\n",
    "plt.xlim(-1, 1.5)\n",
    "plt.ylim(0., -0.4)"
   ]
  },
  {
   "cell_type": "code",
   "execution_count": 35,
   "metadata": {},
   "outputs": [
    {
     "data": {
      "image/png": "[encoded data removed]",
      "text/plain": [
       "<Figure size 1200x500 with 2 Axes>"
      ]
     },
     "metadata": {},
     "output_type": "display_data"
    }
   ],
   "source": [
    "fig, axs = plt.subplots(1, 2, figsize = (12, 5))\n",
    "\n",
    "for j, result_full in enumerate(fit_results):\n",
    "    omega_dict = result_full.omega_dict\n",
    "    for i in range(N_free):\n",
    "        axs[0].scatter(t0_arr,\n",
    "                    omega_dict['real'][f'omega_r_free_{i}'], \n",
    "                    s = 5, c = f'C{j}', alpha = 0.3)\n",
    "        axs[1].scatter(t0_arr, \n",
    "                    omega_dict['imag'][f'omega_i_free_{i}'], \n",
    "                    s = 5, c = f'C{j}', alpha = 0.3)\n",
    "axs[0].set_ylim(-1, 2)\n",
    "axs[1].set_ylim(0.05, -0.4)\n",
    "axs[0].set_xlabel(r\"$(t_0 - t_{\\rm peak})/M$\", fontsize = 16)\n",
    "axs[1].set_xlabel(r\"$(t_0 - t_{\\rm peak})/M$\", fontsize = 16)\n",
    "axs[0].set_ylabel(r\"$\\omega_r$\", fontsize = 16)\n",
    "axs[1].set_ylabel(r\"$\\omega_i$\", fontsize = 16)\n",
    "fig.suptitle(f\"N = {N_free}\", fontsize = 24)\n",
    "\n",
    "plt.savefig(PLOT_PATH_ROOT + f\"convergence_{batch_runname}_{ii:03d}_N_{N_free}.pdf\", bbox_inches = \"tight\")\n",
    "plt.savefig(PLOT_PATH_ROOT + f\"convergence_{batch_runname}_{ii:03d}_N_{N_free}.png\", dpi = 150, bbox_inches = \"tight\",\n",
    "            facecolor='white', transparent=False)"
   ]
  },
  {
   "cell_type": "code",
   "execution_count": null,
   "metadata": {},
   "outputs": [],
   "source": []
  }
 ],
 "metadata": {
  "kernelspec": {
   "display_name": "jaxqualin",
   "language": "python",
   "name": "python3"
  },
  "language_info": {
   "codemirror_mode": {
    "name": "ipython",
    "version": 3
   },
   "file_extension": ".py",
   "mimetype": "text/x-python",
   "name": "python",
   "nbconvert_exporter": "python",
   "pygments_lexer": "ipython3",
   "version": "3.8.5"
  },
  "orig_nbformat": 4,
  "vscode": {
   "interpreter": {
    "hash": "8e8c09a15a5a02be282e31b9023ede7777743d0ee801722d6e1b712aa64b255d"
   }
  }
 },
 "nbformat": 4,
 "nbformat_minor": 2
}
