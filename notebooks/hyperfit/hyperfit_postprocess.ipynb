{
 "cells": [
  {
   "cell_type": "code",
   "execution_count": 20,
   "metadata": {},
   "outputs": [],
   "source": [
    "import os\n",
    "cwd = os.getcwd()\n",
    "jaxqualin_path = os.path.join(cwd, os.pardir, os.pardir)"
   ]
  },
  {
   "cell_type": "code",
   "execution_count": 21,
   "metadata": {},
   "outputs": [],
   "source": [
    "import sys\n",
    "sys.path.insert(0, jaxqualin_path)"
   ]
  },
  {
   "cell_type": "code",
   "execution_count": 22,
   "metadata": {},
   "outputs": [],
   "source": [
    "import jaxqualin.postprocess\n",
    "import jaxqualin.plot\n",
    "import jaxqualin.qnmode\n",
    "\n",
    "from jaxqualin.postprocess import *\n",
    "from jaxqualin.plot import *\n",
    "from jaxqualin.qnmode import *"
   ]
  },
  {
   "cell_type": "code",
   "execution_count": 23,
   "metadata": {},
   "outputs": [],
   "source": [
    "from importlib import reload"
   ]
  },
  {
   "cell_type": "code",
   "execution_count": 24,
   "metadata": {},
   "outputs": [],
   "source": [
    "reload(jaxqualin.postprocess)\n",
    "from jaxqualin.postprocess import *\n",
    "reload(jaxqualin.plot)\n",
    "from jaxqualin.plot import *\n",
    "reload(jaxqualin.qnmode) \n",
    "from jaxqualin.qnmode import *"
   ]
  },
  {
   "cell_type": "code",
   "execution_count": 25,
   "metadata": {},
   "outputs": [],
   "source": [
    "def tex_line_break(string, prefix = '', line_len = 60, prefix_len = False, line_add = ''):\n",
    "    terms = string.replace(' - ', ' + -').split(' + ')\n",
    "    out = prefix + terms[0]\n",
    "    len_row = 0\n",
    "    if prefix_len:\n",
    "        len_row += len(prefix)\n",
    "    else:\n",
    "        len_row += 8\n",
    "    for string in terms[1:]:\n",
    "        term_string = ' + ' + string\n",
    "        term_string = term_string.replace(' + -', ' - ')\n",
    "        term_string_for_len = term_string.replace('\\eta', 'a').replace('\\chi_+', 'bb').replace('\\chi_-', 'cc')\\\n",
    "            .replace(r'\\sqrt', 's').replace(r'\\phi', 'p').replace(r'\\frac', '')\n",
    "        len_row += len(term_string_for_len)\n",
    "        if len_row > line_len:\n",
    "            out += line_add + ' \\\\\\ \\n &'\n",
    "            len_row = len(term_string_for_len)\n",
    "        out += term_string\n",
    "\n",
    "    return out"
   ]
  },
  {
   "cell_type": "code",
   "execution_count": 26,
   "metadata": {},
   "outputs": [],
   "source": [
    "mode_list = ['2.2.0', '-2.2.0', '2.2.1', '2.1.0', '-2.1.0', '2.1.1', '3.3.0', '3.3.1', '3.2.0', '4.4.0', '5.5.0']\n",
    "\n",
    "for mode in mode_list:\n",
    "\n",
    "    l, m, n = map(int, mode.split('.'))\n",
    "\n",
    "    with open(f'./fit_expressions/hyperfit_tex_A_{mode}.txt', 'r') as f:\n",
    "        A_eq_list = f.read().split('\\n')\n",
    "        if len(A_eq_list) > 1:\n",
    "            chi_m_add = A_eq_list[-1]\n",
    "        else:\n",
    "            chi_m_add = None\n",
    "        A_eq = A_eq_list[0]\n",
    "\n",
    "    if chi_m_add is None:\n",
    "        A_eq = r'\\eta \\ (' + A_eq + r')'\n",
    "    else:\n",
    "        A_eq = r'\\eta \\ (' + chi_m_add + ' + \\sqrt{1 - 4 \\eta} \\ (' + A_eq + r'))'\n",
    "\n",
    "    with open(f'./fit_expressions/hyperfit_tex_phi_{mode}.txt', 'r') as f:\n",
    "        phi_eq = f.read()\n",
    "    \n",
    "    if mode != '2.2.0':\n",
    "        if m == 0:\n",
    "            phi_eq = r'\\frac{1}{2} (' + phi_eq + r')'\n",
    "        elif m == 1:\n",
    "            phi_eq = r'\\frac{1}{2} (' + phi_eq + r'+ \\phi_{2{,}2{,}0})'\n",
    "        else:\n",
    "            phi_eq = r'\\frac{1}{2} (' + phi_eq + f'+ {m}' + r'\\phi_{2{,}2{,}0})'\n",
    "\n",
    "    mode_string_tex = mode.replace('.', r'{,}')\n",
    "    mode_string_display = mode.replace('.', r',')\n",
    "    if mode_string_tex[0] == '-':\n",
    "        mode_string_tex = 'r' + mode_string_tex[1:]\n",
    "        mode_string_display = 'r' + mode_string_display[1:]\n",
    "\n",
    "    A_string = f'A_{{{mode_string_tex}}}'\n",
    "    phi_string = f'\\phi_{{{mode_string_tex}}}'\n",
    "    A_string_prefix = A_string + ' = & \\ '\n",
    "    phi_string_prefix = phi_string + ' = & \\ '\n",
    "\n",
    "    mdfile_string = f'''\n",
    "# {mode_string_display} mode\n",
    "\n",
    "## Fit expressions\n",
    "\n",
    "The hyperfit expressions should be used with caution, especially in regions of low amplitude or outside of the convex hull of the data points.\n",
    "The hyperfit function for the amplitude could go to negative values in these regions, which is unphysical.\n",
    "The phase data has been unwrapped before fitting to the best of our ability, but there may still be some jumps of $2\\pi$ in the data, which could be seen in the error plot.\n",
    "Please consult the fit error plot on the bottom of this page before using the fits.\n",
    "\n",
    "We also recommend checking the hyperfit results against the interpolated results. \n",
    "Please check the example notebook under the Examples tab.\n",
    "\n",
    "#### Amplitude\n",
    "$$\\\\begin{{aligned}}\n",
    "{tex_line_break(A_eq, prefix = A_string_prefix, line_len = 70, prefix_len = False)}\n",
    "\\end{{aligned}}$$\n",
    "\n",
    "#### Phase\n",
    "$$\\\\begin{{aligned}}\n",
    "{tex_line_break(phi_eq, prefix = phi_string_prefix, line_len = 70, prefix_len = False)}\n",
    "\\end{{aligned}}$$\n",
    "\n",
    "\n",
    "## Interactive plot\n",
    "\n",
    "Click on the buttons below to switch between the amplitude, phase and starting time plots.\n",
    "\n",
    "--8<-- \"docs/mode_plots/plotly_{mode}.html\"\n",
    "\n",
    "\n",
    "## Fit error\n",
    "\n",
    "![Image title](../mode_plots/fit_err_{mode}.png){{ align=left }}\n",
    "    '''\n",
    "\n",
    "    with open(f'../../docs/mode_md/{mode}.md', 'w') as f:\n",
    "        f.write(mdfile_string)"
   ]
  },
  {
   "cell_type": "code",
   "execution_count": 15,
   "metadata": {},
   "outputs": [
    {
     "name": "stdout",
     "output_type": "stream",
     "text": [
      "\n",
      "# 2,1,0 mode\n",
      "\n",
      "## Fit expressions\n",
      "\n",
      "The hyperfit expressions should be used with caution, especially in regions of low amplitude or outside of the convex hull of the data points.\n",
      "The hyperfit function for the amplitude could go to negative values in these regions, which is unphysical.\n",
      "The phase data has been unwrapped before fitting to the best of our ability, but there may still be some jumps of $2\\pi$ in the data, which could be seen in the error plot.\n",
      "Please consult the fit error plot on the bottom of this page before using the fits.\n",
      "\n",
      "We also recommend checking the hyperfit results against the interpolated results. \n",
      "Please check the example notebook under the Examples tab.\n",
      "\n",
      "#### Amplitude\n",
      "$$\\begin{aligned}\n",
      "A_{2{,}1{,}0} = & \\ \\eta \\ (\\sqrt{1 - 4 \\eta} \\ (6.697 - 148.3 \\eta - 1.035 \\chi_- + 1603 \\eta^2 - 0.96 \\eta \\chi_+ \\\\ \n",
      " & + 3.022 \\chi_+ \\chi_- - 4.27 \\chi_-^2 - 7388 \\eta^3 - 37.87 \\eta^2 \\chi_- - 15.85 \\eta \\chi_+ \\chi_- \\\\ \n",
      " & + 12060 \\eta^4 - 13.17 \\eta \\chi_+ \\chi_-^2 + 11.61 \\eta \\chi_-^3 - 2.666 \\chi_+^2 \\chi_-^2 \\\\ \n",
      " & + 4.661 \\chi_-^4) + 0.9376 |\\chi_-|)\n",
      "\\end{aligned}$$\n",
      "\n",
      "#### Phase\n",
      "$$\\begin{aligned}\n",
      "\\phi_{2{,}1{,}0} = & \\ \\frac{1}{2} (4.282 + 2.075 \\eta - 0.8584 \\chi_+ - 5.04 \\eta \\chi_- - 1.626 \\chi_+ \\chi_- \\\\ \n",
      " & - 4.319 \\eta^2 \\chi_+ + 21.01 \\eta^2 \\chi_- - 2.27 \\eta \\chi_+^2 \\\\ \n",
      " & + 5.414 \\eta \\chi_+ \\chi_-+ \\phi_{2{,}2{,}0})\n",
      "\\end{aligned}$$\n",
      "\n",
      "\n",
      "## Interactive plot\n",
      "\n",
      "Click on the buttons below to switch between the amplitude, phase and starting time plots.\n",
      "\n",
      "--8<-- \"docs/mode_plots/plotly_2.1.0.html\"\n",
      "\n",
      "\n",
      "## Fit error\n",
      "\n",
      "![Image title](../mode_plots/fit_err_2.1.0.png){ align=left }\n",
      "    \n"
     ]
    }
   ],
   "source": [
    "print(mdfile_string)"
   ]
  },
  {
   "cell_type": "code",
   "execution_count": 31,
   "metadata": {},
   "outputs": [],
   "source": [
    "tex_string_full = ''\n",
    "\n",
    "for mode in mode_list:\n",
    "    with open(f'./fit_expressions/hyperfit_tex_A_{mode}.txt', 'r') as f:\n",
    "        A_eq_list = f.read().split('\\n')\n",
    "        if len(A_eq_list) > 1:\n",
    "            chi_m_add = A_eq_list[-1]\n",
    "        else:\n",
    "            chi_m_add = None\n",
    "        A_eq = A_eq_list[0]\n",
    "\n",
    "    with open(f'./fit_expressions/hyperfit_tex_phi_{mode}.txt', 'r') as f:\n",
    "        phi_eq = f.read()\n",
    "\n",
    "    mode_string_tex = mode.replace('.', r'{,}')\n",
    "    mode_string_display = mode.replace('.', r',')\n",
    "    if mode_string_tex[0] == '-':\n",
    "        mode_string_tex = 'r' + mode_string_tex[1:]\n",
    "        mode_string_display = 'r' + mode_string_display[1:]\n",
    "\n",
    "    A_string = f'\\\\tilde{{A}}_{{{mode_string_tex}}}'\n",
    "    phi_string = f'\\\\tilde{{\\phi}}_{{{mode_string_tex}}}'\n",
    "    A_string_prefix = A_string + ' = \\ &'\n",
    "    if chi_m_add is not None:\n",
    "        A_eq = f'{chi_m_add}' + r' + \\delta (' + A_eq + r')'\n",
    "    phi_string_prefix = phi_string + ' = \\ &'\n",
    "\n",
    "    mode_A_eq_tex = tex_line_break(A_eq, prefix = A_string_prefix, line_len = 100, prefix_len = False, line_add = ' \\\\nonumber')\n",
    "    mode_phi_eq_tex = tex_line_break(phi_eq, prefix = phi_string_prefix, line_len = 100, prefix_len = False, line_add = ' \\\\nonumber')\n",
    "    mode_eq_tex = mode_A_eq_tex + f' \\label{{eq:A_{mode}}} \\\\\\ \\n' + mode_phi_eq_tex + f' \\label{{eq:phi_{mode}}} \\\\\\ \\n'\n",
    "    tex_string_full += mode_eq_tex"
   ]
  },
  {
   "cell_type": "code",
   "execution_count": 32,
   "metadata": {},
   "outputs": [
    {
     "name": "stdout",
     "output_type": "stream",
     "text": [
      "\\tilde{A}_{2{,}2{,}0} = \\ &4.004 + 1.349 \\chi_+ + 0.333 \\chi_- - 1.325 \\eta^2 - 1.369 \\eta \\chi_- + 2.622 \\chi_+ \\chi_- - 32.74 \\eta^2 \\chi_+ + 4.313 \\eta \\chi_+^2 \\nonumber \\\\ \n",
      " & - 25.18 \\eta \\chi_+ \\chi_- + 83.37 \\eta^3 \\chi_+ - 13.39 \\eta^2 \\chi_+^2 + 58.01 \\eta^2 \\chi_+ \\chi_- - 0.3837 \\eta \\chi_+^3 - 0.2075 \\chi_+^4 \\label{eq:A_2.2.0} \\\\ \n",
      "\\tilde{\\phi}_{2{,}2{,}0} = \\ &0 \\label{eq:phi_2.2.0} \\\\ \n",
      "\\tilde{A}_{r2{,}2{,}0} = \\ &0.001657 - 0.07586 \\chi_- + 0.1762 \\eta \\chi_+ + 1.358 \\eta \\chi_- + 0.1103 \\chi_+^2 + 0.1361 \\chi_-^2 - 0.03407 \\eta^3 \\nonumber \\\\ \n",
      " & - 2.147 \\eta^2 \\chi_+ - 7.814 \\eta^2 \\chi_- - 1.334 \\eta \\chi_+^2 - 1.295 \\eta \\chi_-^2 - 0.09387 \\chi_+^3 - 0.01674 \\chi_+ \\chi_-^2 \\nonumber \\\\ \n",
      " & + 5.87 \\eta^3 \\chi_+ + 14.41 \\eta^3 \\chi_- + 3.323 \\eta^2 \\chi_+^2 + 2.948 \\eta^2 \\chi_-^2 + 0.1427 \\eta \\chi_+^3 - 0.03698 \\chi_+^4 \\label{eq:A_-2.2.0} \\\\ \n",
      "\\tilde{\\phi}_{r2{,}2{,}0} = \\ &13.14 - 31.89 \\eta + 5.247 \\chi_+ - 3.888 \\chi_- + 12.24 \\eta \\chi_- + 2.571 \\chi_+^2 \\label{eq:phi_-2.2.0} \\\\ \n",
      "\\tilde{A}_{2{,}2{,}1} = \\ &15.46 - 407 \\eta^2 + 55.43 \\eta \\chi_+ - 413.5 \\eta \\chi_- + 14.82 \\chi_+^2 - 65.08 \\chi_+ \\chi_- + 17.99 \\chi_-^2 + 1731 \\eta^3 \\nonumber \\\\ \n",
      " & + 4245 \\eta^2 \\chi_- + 876.8 \\eta \\chi_+ \\chi_- - 72.06 \\eta \\chi_-^2 + 11.46 \\chi_+^3 + 101.2 \\chi_+ \\chi_-^2 - 2.499 \\chi_-^3 \\nonumber \\\\ \n",
      " & - 10310 \\eta^3 \\chi_- - 2485 \\eta^2 \\chi_+ \\chi_- - 400 \\eta \\chi_+ \\chi_-^2 \\label{eq:A_2.2.1} \\\\ \n",
      "\\tilde{\\phi}_{2{,}2{,}1} = \\ &3.918 + 30.68 \\eta + 1.65 \\chi_+ + 2.251 \\chi_- - 196.8 \\eta^2 - 15.94 \\eta \\chi_+ - 35.86 \\eta \\chi_- - 0.2809 \\chi_+^2 \\nonumber \\\\ \n",
      " & - 2.797 \\chi_+ \\chi_- + 324.6 \\eta^3 + 32.04 \\eta^2 \\chi_+ + 107 \\eta^2 \\chi_- + 11.19 \\eta \\chi_+ \\chi_- - 0.2427 \\chi_+^3 \\label{eq:phi_2.2.1} \\\\ \n",
      "\\tilde{A}_{2{,}1{,}0} = \\ &0.9376 |\\chi_-| + \\delta (6.697 - 148.3 \\eta - 1.035 \\chi_- + 1603 \\eta^2 - 0.96 \\eta \\chi_+ + 3.022 \\chi_+ \\chi_- - 4.27 \\chi_-^2 \\nonumber \\\\ \n",
      " & - 7388 \\eta^3 - 37.87 \\eta^2 \\chi_- - 15.85 \\eta \\chi_+ \\chi_- + 12060 \\eta^4 - 13.17 \\eta \\chi_+ \\chi_-^2 + 11.61 \\eta \\chi_-^3 \\nonumber \\\\ \n",
      " & - 2.666 \\chi_+^2 \\chi_-^2 + 4.661 \\chi_-^4) \\label{eq:A_2.1.0} \\\\ \n",
      "\\tilde{\\phi}_{2{,}1{,}0} = \\ &4.282 + 2.075 \\eta - 0.8584 \\chi_+ - 5.04 \\eta \\chi_- - 1.626 \\chi_+ \\chi_- - 4.319 \\eta^2 \\chi_+ + 21.01 \\eta^2 \\chi_- - 2.27 \\eta \\chi_+^2 \\nonumber \\\\ \n",
      " & + 5.414 \\eta \\chi_+ \\chi_- \\label{eq:phi_2.1.0} \\\\ \n",
      "\\tilde{A}_{r2{,}1{,}0} = \\ &0.08673 - 0.2838 \\chi_+ - 0.08817 \\chi_- - 10.79 \\eta^2 + 2.238 \\eta \\chi_+ + 0.3544 \\eta \\chi_- + 0.187 \\chi_+ \\chi_- + 0.2696 \\chi_-^2 \\nonumber \\\\ \n",
      " & + 71.95 \\eta^3 - 4.639 \\eta^2 \\chi_+ - 2.673 \\eta \\chi_-^2 - 0.04592 \\chi_+^2 \\chi_- - 138.5 \\eta^4 - 3.162 \\eta^2 \\chi_+ \\chi_- \\nonumber \\\\ \n",
      " & + 6.734 \\eta^2 \\chi_-^2 \\label{eq:A_-2.1.0} \\\\ \n",
      "\\tilde{\\phi}_{r2{,}1{,}0} = \\ &9.273 - 21.85 \\eta + 3.373 \\chi_+ + 14.03 \\eta^2 + 7.836 \\eta \\chi_+ - 3.304 \\eta \\chi_- + 3.543 \\chi_+^2 + 3.424 \\chi_+ \\chi_- \\nonumber \\\\ \n",
      " & - 22.07 \\eta^2 \\chi_+ + 15.32 \\eta^2 \\chi_- - 11.25 \\eta \\chi_+ \\chi_- + 4.089 \\eta \\chi_-^2 + 2.102 \\chi_+^3 + 1.508 \\chi_+ \\chi_-^2 \\label{eq:phi_-2.1.0} \\\\ \n",
      "\\tilde{A}_{2{,}1{,}1} = \\ &13.85 - 48.23 \\eta - 6.001 \\chi_-^2 - 671.1 \\eta^2 \\chi_- + 45.03 \\eta \\chi_-^2 + 9.536 \\chi_+ \\chi_-^2 + 2648 \\eta^3 \\chi_- \\label{eq:A_2.1.1} \\\\ \n",
      "\\tilde{\\phi}_{2{,}1{,}1} = \\ &3.363 - 6.907 \\eta - 5.204 \\chi_+ + 26.98 \\eta^2 + 41.15 \\eta \\chi_+ + 2.266 \\chi_+^2 - 88.85 \\eta^2 \\chi_+ - 13.29 \\eta \\chi_+^2 \\nonumber \\\\ \n",
      " & - 0.8613 \\eta \\chi_-^2 - 1.767 \\chi_+^3 - 0.2526 \\chi_-^3 \\label{eq:phi_2.1.1} \\\\ \n",
      "\\tilde{A}_{3{,}3{,}0} = \\ &0.2115 |\\chi_-| + \\delta (1.82 + 0.6007 \\chi_+ + 0.4653 \\chi_- + 16.49 \\eta^2 + 0.9369 \\chi_+ \\chi_- - 0.2701 \\chi_-^2 - 53.16 \\eta^3 \\nonumber \\\\ \n",
      " & - 4.201 \\eta^2 \\chi_- + 2.18 \\eta \\chi_+^2 - 6.289 \\eta \\chi_+ \\chi_-) \\label{eq:A_3.3.0} \\\\ \n",
      "\\tilde{\\phi}_{3{,}3{,}0} = \\ &0.08988 + 1.049 \\eta \\chi_+ + 40.79 \\eta^3 \\label{eq:phi_3.3.0} \\\\ \n",
      "\\tilde{A}_{3{,}3{,}1} = \\ &9.466 - 29.78 \\eta - 35.38 \\chi_+ + 404.6 \\eta \\chi_+ + 62.3 \\eta \\chi_- + 35.06 \\chi_+^2 + 36.65 \\chi_-^2 - 1021 \\eta^2 \\chi_+ \\nonumber \\\\ \n",
      " & - 264.3 \\eta^2 \\chi_- - 122 \\eta \\chi_+^2 - 155.2 \\eta \\chi_-^2 + 18.1 \\chi_+^2 \\chi_- \\label{eq:A_3.3.1} \\\\ \n",
      "\\tilde{\\phi}_{3{,}3{,}1} = \\ &4.984 - 1.686 \\chi_- + 22.71 \\eta \\chi_- + 8.942 \\eta^3 - 84.57 \\eta^2 \\chi_- - 6.581 \\eta \\chi_+ \\chi_- \\label{eq:phi_3.3.1} \\\\ \n",
      "\\tilde{A}_{3{,}2{,}0} = \\ &0.7695 - 3.308 \\eta - 1.446 \\eta \\chi_+ - 61.87 \\eta^3 + 72.14 \\eta^2 \\chi_+ - 127.1 \\eta^2 \\chi_- - 2.769 \\eta \\chi_+ \\chi_- \\nonumber \\\\ \n",
      " & + 0.3681 \\eta \\chi_-^2 - 0.5065 \\chi_+ \\chi_-^2 + 0.5483 \\chi_-^3 + 293.4 \\eta^4 - 527.6 \\eta^3 \\chi_+ + 1110 \\eta^3 \\chi_- \\nonumber \\\\ \n",
      " & + 11.14 \\eta^2 \\chi_+ \\chi_- + 2.18 \\eta \\chi_+ \\chi_-^2 - 2.023 \\eta \\chi_-^3 + 1014 \\eta^4 \\chi_+ - 2407 \\eta^4 \\chi_- \\label{eq:A_3.2.0} \\\\ \n",
      "\\tilde{\\phi}_{3{,}2{,}0} = \\ &- 32.08 + 889.7 \\eta - 81.88 \\chi_+ + 93.05 \\chi_- - 9292 \\eta^2 + 1584 \\eta \\chi_+ - 1817 \\eta \\chi_- - 0.3888 \\chi_-^2 \\nonumber \\\\ \n",
      " & + 40350 \\eta^3 - 9588 \\eta^2 \\chi_+ + 10930 \\eta^2 \\chi_- - 6.121 \\eta \\chi_+^2 - 60250 \\eta^4 + 18190 \\eta^3 \\chi_+ - 20600 \\eta^3 \\chi_- \\label{eq:phi_3.2.0} \\\\ \n",
      "\\tilde{A}_{4{,}4{,}0} = \\ &0.6505 + 2.978 \\eta \\chi_- + 0.4262 \\chi_+ \\chi_- + 106.1 \\eta^3 + 67.45 \\eta^2 \\chi_+ - 12.08 \\eta^2 \\chi_- - 1.738 \\eta \\chi_+ \\chi_- \\nonumber \\\\ \n",
      " & - 2041 \\eta^4 - 614.2 \\eta^3 \\chi_+ + 5974 \\eta^5 + 1387 \\eta^4 \\chi_+ \\label{eq:A_4.4.0} \\\\ \n",
      "\\tilde{\\phi}_{4{,}4{,}0} = \\ &153.6 - 6463 \\eta + 114700 \\eta^2 - 1053000 \\eta^3 + 5278000 \\eta^4 + 478.4 \\eta^3 \\chi_+ - 13680000 \\eta^5 \\nonumber \\\\ \n",
      " & - 1960 \\eta^4 \\chi_+ + 65.4 \\eta^4 \\chi_- + 14320000 \\eta^6 \\label{eq:phi_4.4.0} \\\\ \n",
      "\\tilde{A}_{5{,}5{,}0} = \\ &0.04064 |\\chi_-| + \\delta (- 0.431 + 21.23 \\eta + 0.2405 \\chi_+ + 0.1427 \\chi_- - 175.8 \\eta^2 - 2.017 \\eta \\chi_+ + 0.03273 \\chi_+^2 \\nonumber \\\\ \n",
      " & + 0.2473 \\chi_-^2 + 414.9 \\eta^3 - 1.526 \\eta \\chi_-^2 + 0.6688 \\chi_+^3 - 1.876 \\chi_+^2 \\chi_- + 1.815 \\chi_+ \\chi_-^2 \\nonumber \\\\ \n",
      " & - 0.4803 \\chi_-^3) \\label{eq:A_5.5.0} \\\\ \n",
      "\\tilde{\\phi}_{5{,}5{,}0} = \\ &6.4 - 296.5 \\eta^3 - 56.71 \\eta^2 \\chi_- + 2.317 \\eta \\chi_+^2 - 4.757 \\chi_-^3 - 353.7 \\eta^2 \\chi_-^2 - 41.22 \\eta \\chi_+ \\chi_-^2 \\nonumber \\\\ \n",
      " & + 120.1 \\eta \\chi_-^3 + 4959 \\eta^3 \\chi_-^2 - 15780 \\eta^4 \\chi_-^2 + 131.9 \\eta \\chi_+ \\chi_-^4 - 143.8 \\eta \\chi_-^5 \\label{eq:phi_5.5.0} \\\\ \n",
      "\n"
     ]
    }
   ],
   "source": [
    "print(tex_string_full)"
   ]
  },
  {
   "cell_type": "code",
   "execution_count": 60,
   "metadata": {},
   "outputs": [],
   "source": [
    "string1 = 'abc'\n",
    "string2 = string1.replace('a', 'd')"
   ]
  },
  {
   "cell_type": "code",
   "execution_count": 25,
   "metadata": {},
   "outputs": [
    {
     "data": {
      "text/plain": [
       "'abc'"
      ]
     },
     "execution_count": 25,
     "metadata": {},
     "output_type": "execute_result"
    }
   ],
   "source": [
    "string1"
   ]
  },
  {
   "cell_type": "code",
   "execution_count": null,
   "metadata": {},
   "outputs": [],
   "source": []
  }
 ],
 "metadata": {
  "kernelspec": {
   "display_name": "jaxqualin",
   "language": "python",
   "name": "python3"
  },
  "language_info": {
   "codemirror_mode": {
    "name": "ipython",
    "version": 3
   },
   "file_extension": ".py",
   "mimetype": "text/x-python",
   "name": "python",
   "nbconvert_exporter": "python",
   "pygments_lexer": "ipython3",
   "version": "3.9.2"
  },
  "orig_nbformat": 4
 },
 "nbformat": 4,
 "nbformat_minor": 2
}
