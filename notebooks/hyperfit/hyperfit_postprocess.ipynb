{
 "cells": [
  {
   "cell_type": "code",
   "execution_count": 7,
   "metadata": {},
   "outputs": [],
   "source": [
    "import os\n",
    "cwd = os.getcwd()\n",
    "jaxqualin_path = os.path.join(cwd, os.pardir, os.pardir)"
   ]
  },
  {
   "cell_type": "code",
   "execution_count": 8,
   "metadata": {},
   "outputs": [],
   "source": [
    "import sys\n",
    "sys.path.insert(0, jaxqualin_path)"
   ]
  },
  {
   "cell_type": "code",
   "execution_count": 9,
   "metadata": {},
   "outputs": [],
   "source": [
    "import jaxqualin.postprocess\n",
    "import jaxqualin.plot\n",
    "import jaxqualin.qnmode\n",
    "\n",
    "from jaxqualin.postprocess import *\n",
    "from jaxqualin.plot import *\n",
    "from jaxqualin.qnmode import *"
   ]
  },
  {
   "cell_type": "code",
   "execution_count": 11,
   "metadata": {},
   "outputs": [],
   "source": [
    "from importlib import reload"
   ]
  },
  {
   "cell_type": "code",
   "execution_count": 12,
   "metadata": {},
   "outputs": [],
   "source": [
    "reload(jaxqualin.postprocess)\n",
    "from jaxqualin.postprocess import *\n",
    "reload(jaxqualin.plot)\n",
    "from jaxqualin.plot import *\n",
    "reload(jaxqualin.qnmode) \n",
    "from jaxqualin.qnmode import *"
   ]
  },
  {
   "cell_type": "code",
   "execution_count": 13,
   "metadata": {},
   "outputs": [],
   "source": [
    "modes = ['2.2.0', '-2.2.0', '2.2.1']"
   ]
  },
  {
   "cell_type": "code",
   "execution_count": 33,
   "metadata": {},
   "outputs": [],
   "source": [
    "def tex_line_break(string, prefix = '', line_len = 60, prefix_len = False, line_add = ''):\n",
    "    terms = string.replace(' - ', ' + -').split(' + ')\n",
    "    out = prefix + terms[0]\n",
    "    len_row = 0\n",
    "    if prefix_len:\n",
    "        len_row += len(prefix)\n",
    "    else:\n",
    "        len_row += 8\n",
    "    for string in terms[1:]:\n",
    "        term_string = ' + ' + string\n",
    "        term_string = term_string.replace(' + -', ' - ')\n",
    "        term_string_for_len = term_string.replace('\\eta', 'a').replace('\\chi_+', 'bb').replace('\\chi_-', 'cc')\\\n",
    "            .replace(r'\\sqrt', 's').replace(r'\\phi', 'p').replace(r'\\frac', '')\n",
    "        len_row += len(term_string_for_len)\n",
    "        if len_row > line_len:\n",
    "            out += line_add + ' \\\\\\ \\n &'\n",
    "            len_row = len(term_string_for_len)\n",
    "        out += term_string\n",
    "\n",
    "    return out"
   ]
  },
  {
   "cell_type": "code",
   "execution_count": 34,
   "metadata": {},
   "outputs": [],
   "source": [
    "mode_list = ['2.2.0', '-2.2.0', '2.2.1', '2.1.0', '-2.1.0', '2.1.1', '3.3.0', '3.3.1', '3.2.0', '4.4.0', '5.5.0']\n",
    "\n",
    "for mode in mode_list:\n",
    "\n",
    "    l, m, n = map(int, mode.split('.'))\n",
    "\n",
    "    with open(f'./fit_expressions/hyperfit_tex_A_{mode}.txt', 'r') as f:\n",
    "        A_eq = f.read()\n",
    "\n",
    "    if m % 2 == 0:\n",
    "        A_eq = r'\\eta \\ (' + A_eq + r')'\n",
    "    else:\n",
    "        A_eq = r'\\eta \\sqrt{1 - 4 \\eta} \\ (' + A_eq + r')'\n",
    "\n",
    "    with open(f'./fit_expressions/hyperfit_tex_phi_{mode}.txt', 'r') as f:\n",
    "        phi_eq = f.read()\n",
    "    \n",
    "    if mode != '2.2.0':\n",
    "        if m == 0:\n",
    "            phi_eq = r'\\frac{1}{2} (' + phi_eq + r')'\n",
    "        elif m == 1:\n",
    "            phi_eq = r'\\frac{1}{2} (' + phi_eq + r'+ \\phi_{2{,}2{,}0})'\n",
    "        else:\n",
    "            phi_eq = r'\\frac{1}{2} (' + phi_eq + f'+ {m}' + r'\\phi_{2{,}2{,}0})'\n",
    "\n",
    "    mode_string_tex = mode.replace('.', r'{,}')\n",
    "    mode_string_display = mode.replace('.', r',')\n",
    "    if mode_string_tex[0] == '-':\n",
    "        mode_string_tex = 'r' + mode_string_tex[1:]\n",
    "        mode_string_display = 'r' + mode_string_display[1:]\n",
    "\n",
    "    A_string = f'A_{{{mode_string_tex}}}'\n",
    "    phi_string = f'\\phi_{{{mode_string_tex}}}'\n",
    "    A_string_prefix = A_string + ' = & \\ '\n",
    "    phi_string_prefix = phi_string + ' = & \\ '\n",
    "\n",
    "    mdfile_string = f'''\n",
    "# {mode_string_display} mode\n",
    "\n",
    "## Fit expressions\n",
    "\n",
    "The hyperfit expressions should be used with caution, especially in regions of low amplitude or outside of the convex hull of the data points.\n",
    "The hyperfit function for the amplitude could go to negative values in these regions, which is unphysical.\n",
    "The phase data has been unwrapped before fitting to the best of our ability, but there may still be some jumps of $2\\pi$ in the data, which could be seen in the error plot.\n",
    "Please consult the fit error plot on the bottom of this page before using the fits.\n",
    "\n",
    "We also recommend checking the hyperfit results against the interpolated results. \n",
    "Please check the example notebook under the Examples tab.\n",
    "\n",
    "#### Amplitude\n",
    "$$\\\\begin{{aligned}}\n",
    "{tex_line_break(A_eq, prefix = A_string_prefix, line_len = 70, prefix_len = False)}\n",
    "\\end{{aligned}}$$\n",
    "\n",
    "#### Phase\n",
    "$$\\\\begin{{aligned}}\n",
    "{tex_line_break(phi_eq, prefix = phi_string_prefix, line_len = 70, prefix_len = False)}\n",
    "\\end{{aligned}}$$\n",
    "\n",
    "\n",
    "## Interactive plot\n",
    "\n",
    "Click on the buttons below to switch between the amplitude, phase and starting time plots.\n",
    "\n",
    "--8<-- \"docs/mode_plots/plotly_{mode}.html\"\n",
    "\n",
    "\n",
    "## Fit error\n",
    "\n",
    "![Image title](../mode_plots/fit_err_{mode}.png){{ align=left }}\n",
    "    '''\n",
    "\n",
    "    with open(f'../../docs/mode_md/{mode}.md', 'w') as f:\n",
    "        f.write(mdfile_string)"
   ]
  },
  {
   "cell_type": "code",
   "execution_count": 21,
   "metadata": {},
   "outputs": [
    {
     "name": "stdout",
     "output_type": "stream",
     "text": [
      "\n",
      "# 5,5,0 mode\n",
      "\n",
      "## Fit expressions\n",
      "\n",
      "The hyperfit expressions should be used with caution, especially in regions of low amplitude or outside of the convex hull of the data points.\n",
      "The hyperfit function for the amplitude could go to negative values in these regions, which is unphysical.\n",
      "The phase data has been unwrapped before fitting to the best of our ability, but there may still be some jumps of $2\\pi$ in the data, which could be seen in the error plot.\n",
      "Please consult the fit error plot on the bottom of this page before using the fits.\n",
      "\n",
      "We also recommend checking the hyperfit results against the interpolated results. \n",
      "Please check the example notebook under the Examples tab.\n",
      "\n",
      "#### Amplitude\n",
      "$$\\begin{aligned}\n",
      "A_{5{,}5{,}0} = & \\ \\eta \\sqrt{1 - 4 \\eta} \\left(0.402 + 0.1177 \\chi_-^2 + 65.85 \\eta^2 \\chi_- \\\\ \n",
      " & - 885.7 \\eta^4 - 626.1 \\eta^3 \\chi_- + 3532 \\eta^5 + 1495 \\eta^4 \\chi_-\\right)\n",
      "\\end{aligned}$$\n",
      "\n",
      "#### Phase\n",
      "$$\\begin{aligned}\n",
      "\\phi_{5{,}5{,}0} = & \\ \\frac{1}{2} \\left(6.25 + 155.6 \\eta^2 \\chi_- - 791.3 \\eta^3 \\chi_- - 27350 \\eta^6 \\\\ \n",
      " & + 139 \\eta^3 \\chi_-^3+ 5\\phi_{2{,}2{,}0}\\right)\n",
      "\\end{aligned}$$\n",
      "\n",
      "\n",
      "## Interactive plot\n",
      "\n",
      "Click on the buttons below to switch between the amplitude, phase and starting time plots.\n",
      "\n",
      "--8<-- \"docs/mode_plots/plotly_5.5.0.html\"\n",
      "\n",
      "\n",
      "## Fit error\n",
      "\n",
      "![Image title](../mode_plots/fit_err_5.5.0.png){ align=left }\n",
      "    \n"
     ]
    }
   ],
   "source": [
    "print(mdfile_string)"
   ]
  },
  {
   "cell_type": "code",
   "execution_count": 83,
   "metadata": {},
   "outputs": [],
   "source": [
    "tex_string_full = ''\n",
    "\n",
    "for mode in mode_list:\n",
    "    with open(f'./fit_expressions/hyperfit_tex_A_{mode}.txt', 'r') as f:\n",
    "        A_eq = f.read()\n",
    "\n",
    "    with open(f'./fit_expressions/hyperfit_tex_phi_{mode}.txt', 'r') as f:\n",
    "        phi_eq = f.read()\n",
    "\n",
    "    mode_string_tex = mode.replace('.', r'{,}')\n",
    "    mode_string_display = mode.replace('.', r',')\n",
    "    if mode_string_tex[0] == '-':\n",
    "        mode_string_tex = 'r' + mode_string_tex[1:]\n",
    "        mode_string_display = 'r' + mode_string_display[1:]\n",
    "\n",
    "    A_string = f'\\\\tilde{{A}}_{{{mode_string_tex}}}'\n",
    "    phi_string = f'\\\\tilde{{\\phi}}_{{{mode_string_tex}}}'\n",
    "    A_string_prefix = A_string + ' = \\ &'\n",
    "    phi_string_prefix = phi_string + ' = \\ &'\n",
    "\n",
    "    mode_A_eq_tex = tex_line_break(A_eq, prefix = A_string_prefix, line_len = 100, prefix_len = False, line_add = ' \\\\nonumber')\n",
    "    mode_phi_eq_tex = tex_line_break(phi_eq, prefix = phi_string_prefix, line_len = 100, prefix_len = False, line_add = ' \\\\nonumber')\n",
    "    mode_eq_tex = mode_A_eq_tex + f' \\label{{eq:A_{mode}}} \\\\\\ \\n' + mode_phi_eq_tex + f' \\label{{eq:phi_{mode}}} \\\\\\ \\n'\n",
    "    tex_string_full += mode_eq_tex"
   ]
  },
  {
   "cell_type": "code",
   "execution_count": 84,
   "metadata": {},
   "outputs": [
    {
     "name": "stdout",
     "output_type": "stream",
     "text": [
      "\\tilde{A}_{2{,}2{,}0} = \\ &4.004 + 1.349 \\chi_+ + 0.333 \\chi_- - 1.325 \\eta^2 - 1.369 \\eta \\chi_- + 2.622 \\chi_+ \\chi_- - 32.74 \\eta^2 \\chi_+ + 4.313 \\eta \\chi_+^2 \\nonumber \\\\ \n",
      " & - 25.18 \\eta \\chi_+ \\chi_- + 83.37 \\eta^3 \\chi_+ - 13.39 \\eta^2 \\chi_+^2 + 58.01 \\eta^2 \\chi_+ \\chi_- - 0.3837 \\eta \\chi_+^3 - 0.2075 \\chi_+^4 \\label{eq:A_2.2.0} \\\\ \n",
      "\\tilde{\\phi}_{2{,}2{,}0} = \\ &0 \\label{eq:phi_2.2.0} \\\\ \n",
      "\\tilde{A}_{r2{,}2{,}0} = \\ &0.001657 - 0.07586 \\chi_- + 0.1762 \\eta \\chi_+ + 1.358 \\eta \\chi_- + 0.1103 \\chi_+^2 + 0.1361 \\chi_-^2 - 0.03407 \\eta^3 - 2.147 \\eta^2 \\chi_+ \\nonumber \\\\ \n",
      " & - 7.814 \\eta^2 \\chi_- - 1.334 \\eta \\chi_+^2 - 1.295 \\eta \\chi_-^2 - 0.09387 \\chi_+^3 - 0.01674 \\chi_+ \\chi_-^2 + 5.87 \\eta^3 \\chi_+ \\nonumber \\\\ \n",
      " & + 14.41 \\eta^3 \\chi_- + 3.323 \\eta^2 \\chi_+^2 + 2.948 \\eta^2 \\chi_-^2 + 0.1427 \\eta \\chi_+^3 - 0.03698 \\chi_+^4 \\label{eq:A_-2.2.0} \\\\ \n",
      "\\tilde{\\phi}_{r2{,}2{,}0} = \\ &13.14 - 31.89 \\eta + 5.247 \\chi_+ - 3.888 \\chi_- + 12.24 \\eta \\chi_- + 2.571 \\chi_+^2 \\label{eq:phi_-2.2.0} \\\\ \n",
      "\\tilde{A}_{2{,}2{,}1} = \\ &15.46 - 407 \\eta^2 + 55.43 \\eta \\chi_+ - 413.5 \\eta \\chi_- + 14.82 \\chi_+^2 - 65.08 \\chi_+ \\chi_- + 17.99 \\chi_-^2 + 1731 \\eta^3 \\nonumber \\\\ \n",
      " & + 4245 \\eta^2 \\chi_- + 876.8 \\eta \\chi_+ \\chi_- - 72.06 \\eta \\chi_-^2 + 11.46 \\chi_+^3 + 101.2 \\chi_+ \\chi_-^2 - 2.499 \\chi_-^3 \\nonumber \\\\ \n",
      " & - 10310 \\eta^3 \\chi_- - 2485 \\eta^2 \\chi_+ \\chi_- - 400 \\eta \\chi_+ \\chi_-^2 \\label{eq:A_2.2.1} \\\\ \n",
      "\\tilde{\\phi}_{2{,}2{,}1} = \\ &3.918 + 30.68 \\eta + 1.65 \\chi_+ + 2.251 \\chi_- - 196.8 \\eta^2 - 15.94 \\eta \\chi_+ - 35.86 \\eta \\chi_- - 0.2809 \\chi_+^2 - 2.797 \\chi_+ \\chi_- \\nonumber \\\\ \n",
      " & + 324.6 \\eta^3 + 32.04 \\eta^2 \\chi_+ + 107 \\eta^2 \\chi_- + 11.19 \\eta \\chi_+ \\chi_- - 0.2427 \\chi_+^3 \\label{eq:phi_2.2.1} \\\\ \n",
      "\\tilde{A}_{2{,}1{,}0} = \\ &1.827 - 1.306 \\chi_- + 2.247 \\chi_-^2 - 36.8 \\eta \\chi_-^2 - 2.713 \\chi_+^3 + 3.122 \\chi_+^2 \\chi_- - 567 \\eta^4 - 42.68 \\eta^3 \\chi_+ \\nonumber \\\\ \n",
      " & + 132.1 \\eta^2 \\chi_-^2 + 14.34 \\eta \\chi_+^3 - 17.75 \\eta \\chi_+^2 \\chi_- - 17.01 \\eta \\chi_-^3 + 2031 \\eta^5 - 636.3 \\eta^4 \\chi_- \\nonumber \\\\ \n",
      " & + 109.2 \\eta^2 \\chi_-^3 - 12.54 \\eta \\chi_+ \\chi_-^3 + 9.589 \\eta \\chi_-^4 \\label{eq:A_2.1.0} \\\\ \n",
      "\\tilde{\\phi}_{2{,}1{,}0} = \\ &3.713 + 13.14 \\eta - 0.6355 \\chi_+ - 0.4104 \\chi_- - 69.94 \\eta^2 + 1.467 \\eta \\chi_- + 0.6818 \\chi_+^2 - 3.018 \\chi_+ \\chi_- \\nonumber \\\\ \n",
      " & + 0.6753 \\chi_-^2 + 145.5 \\eta^3 - 8.586 \\eta^2 \\chi_+ - 6.127 \\eta \\chi_+^2 + 11.72 \\eta \\chi_+ \\chi_- - 3.573 \\eta \\chi_-^2 \\nonumber \\\\ \n",
      " & - 0.8431 \\chi_+^2 \\chi_- \\label{eq:phi_2.1.0} \\\\ \n",
      "\\tilde{A}_{r2{,}1{,}0} = \\ &0.1296 - 1.154 \\eta - 0.2453 \\chi_+ - 0.2317 \\chi_- + 3.926 \\eta^2 + 1.853 \\eta \\chi_+ + 1.817 \\eta \\chi_- + 0.07881 \\chi_+^2 \\nonumber \\\\ \n",
      " & + 0.1893 \\chi_+ \\chi_- + 0.1375 \\chi_-^2 - 4.87 \\eta^3 - 4.418 \\eta^2 \\chi_+ - 4.325 \\eta^2 \\chi_- - 0.2036 \\eta \\chi_+^2 \\nonumber \\\\ \n",
      " & - 0.512 \\eta \\chi_+ \\chi_- - 0.625 \\eta \\chi_-^2 + 0.01958 \\chi_+^3 - 0.1001 \\chi_+^2 \\chi_- - 0.02319 \\chi_-^3 \\label{eq:A_-2.1.0} \\\\ \n",
      "\\tilde{\\phi}_{r2{,}1{,}0} = \\ &9.191 - 21.01 \\eta + 3.961 \\chi_+ + 11.53 \\eta^2 - 0.5383 \\eta \\chi_- + 3.039 \\chi_+^2 + 3.905 \\chi_+ \\chi_- + 0.8355 \\chi_-^2 \\nonumber \\\\ \n",
      " & - 13.01 \\eta \\chi_+ \\chi_- + 1.6 \\chi_+^3 + 1.932 \\chi_+ \\chi_-^2 \\label{eq:phi_-2.1.0} \\\\ \n",
      "\\tilde{A}_{2{,}1{,}1} = \\ &14.06 - 21.07 \\eta + 18.54 \\eta \\chi_+ - 67.63 \\eta \\chi_- \\label{eq:A_2.1.1} \\\\ \n",
      "\\tilde{\\phi}_{2{,}1{,}1} = \\ &2.842 - 0.5356 \\chi_+ + 27.41 \\eta^3 - 4.772 \\eta \\chi_+^2 - 3.9 \\chi_+^2 \\chi_- \\label{eq:phi_2.1.1} \\\\ \n",
      "\\tilde{A}_{3{,}3{,}0} = \\ &1.748 + 1.982 \\eta + 0.5514 \\chi_+ + 0.4317 \\chi_- + 0.7544 \\chi_+^2 + 0.09998 \\chi_-^2 - 4.293 \\eta^2 \\chi_- - 2.133 \\eta \\chi_+^2 \\nonumber \\\\ \n",
      " & + 0.2599 \\chi_+^2 \\chi_- \\label{eq:A_3.3.0} \\\\ \n",
      "\\tilde{\\phi}_{3{,}3{,}0} = \\ &0.01279 - 0.9859 \\chi_- + 10.18 \\eta^2 + 1.334 \\eta \\chi_+ + 15.64 \\eta \\chi_- - 56.52 \\eta^2 \\chi_- \\label{eq:phi_3.3.0} \\\\ \n",
      "\\tilde{A}_{3{,}3{,}1} = \\ &- 10.37 + 85.12 \\chi_+ + 322.3 \\chi_- + 4845 \\eta^2 - 988.1 \\eta \\chi_+ - 5586 \\eta \\chi_- - 78.67 \\chi_+^2 - 373.2 \\chi_+ \\chi_- - 38270 \\eta^3 \\nonumber \\\\ \n",
      " & + 2968 \\eta^2 \\chi_+ + 31740 \\eta^2 \\chi_- + 453.9 \\eta \\chi_+^2 + 4124 \\eta \\chi_+ \\chi_- + 14.41 \\chi_+^3 + 305 \\chi_+^2 \\chi_- + 82530 \\eta^4 \\nonumber \\\\ \n",
      " & - 58260 \\eta^3 \\chi_- - 10660 \\eta^2 \\chi_+ \\chi_- - 1446 \\eta \\chi_+^2 \\chi_- \\label{eq:A_3.3.1} \\\\ \n",
      "\\tilde{\\phi}_{3{,}3{,}1} = \\ &5.276 - 2.033 \\chi_- - 23.61 \\eta^2 + 24.91 \\eta \\chi_- - 0.6914 \\chi_+ \\chi_- + 81.93 \\eta^3 - 84.18 \\eta^2 \\chi_- - 0.636 \\chi_+^2 \\chi_- \\label{eq:phi_3.3.1} \\\\ \n",
      "\\tilde{A}_{3{,}2{,}0} = \\ &0.7695 - 3.308 \\eta - 1.446 \\eta \\chi_+ - 61.87 \\eta^3 + 72.14 \\eta^2 \\chi_+ - 127.1 \\eta^2 \\chi_- - 2.769 \\eta \\chi_+ \\chi_- + 0.3681 \\eta \\chi_-^2 \\nonumber \\\\ \n",
      " & - 0.5065 \\chi_+ \\chi_-^2 + 0.5483 \\chi_-^3 + 293.4 \\eta^4 - 527.6 \\eta^3 \\chi_+ + 1110 \\eta^3 \\chi_- + 11.14 \\eta^2 \\chi_+ \\chi_- \\nonumber \\\\ \n",
      " & + 2.18 \\eta \\chi_+ \\chi_-^2 - 2.023 \\eta \\chi_-^3 + 1014 \\eta^4 \\chi_+ - 2407 \\eta^4 \\chi_- \\label{eq:A_3.2.0} \\\\ \n",
      "\\tilde{\\phi}_{3{,}2{,}0} = \\ &- 32.08 + 889.7 \\eta - 81.88 \\chi_+ + 93.05 \\chi_- - 9292 \\eta^2 + 1584 \\eta \\chi_+ - 1817 \\eta \\chi_- - 0.3888 \\chi_-^2 + 40350 \\eta^3 \\nonumber \\\\ \n",
      " & - 9588 \\eta^2 \\chi_+ + 10930 \\eta^2 \\chi_- - 6.121 \\eta \\chi_+^2 - 60250 \\eta^4 + 18190 \\eta^3 \\chi_+ - 20600 \\eta^3 \\chi_- \\label{eq:phi_3.2.0} \\\\ \n",
      "\\tilde{A}_{4{,}4{,}0} = \\ &0.6505 + 2.978 \\eta \\chi_- + 0.4262 \\chi_+ \\chi_- + 106.1 \\eta^3 + 67.45 \\eta^2 \\chi_+ - 12.08 \\eta^2 \\chi_- - 1.738 \\eta \\chi_+ \\chi_- - 2041 \\eta^4 \\nonumber \\\\ \n",
      " & - 614.2 \\eta^3 \\chi_+ + 5974 \\eta^5 + 1387 \\eta^4 \\chi_+ \\label{eq:A_4.4.0} \\\\ \n",
      "\\tilde{\\phi}_{4{,}4{,}0} = \\ &153.6 - 6463 \\eta + 114700 \\eta^2 - 1053000 \\eta^3 + 5278000 \\eta^4 + 478.4 \\eta^3 \\chi_+ - 13680000 \\eta^5 - 1960 \\eta^4 \\chi_+ \\nonumber \\\\ \n",
      " & + 65.4 \\eta^4 \\chi_- + 14320000 \\eta^6 \\label{eq:phi_4.4.0} \\\\ \n",
      "\\tilde{A}_{5{,}5{,}0} = \\ &0.402 + 0.1177 \\chi_-^2 + 65.85 \\eta^2 \\chi_- - 885.7 \\eta^4 - 626.1 \\eta^3 \\chi_- + 3532 \\eta^5 + 1495 \\eta^4 \\chi_- \\label{eq:A_5.5.0} \\\\ \n",
      "\\tilde{\\phi}_{5{,}5{,}0} = \\ &6.25 + 155.6 \\eta^2 \\chi_- - 791.3 \\eta^3 \\chi_- - 27350 \\eta^6 + 139 \\eta^3 \\chi_-^3 \\label{eq:phi_5.5.0} \\\\ \n",
      "\n"
     ]
    }
   ],
   "source": [
    "print(tex_string_full)"
   ]
  },
  {
   "cell_type": "code",
   "execution_count": 60,
   "metadata": {},
   "outputs": [],
   "source": [
    "string1 = 'abc'\n",
    "string2 = string1.replace('a', 'd')"
   ]
  },
  {
   "cell_type": "code",
   "execution_count": 25,
   "metadata": {},
   "outputs": [
    {
     "data": {
      "text/plain": [
       "'abc'"
      ]
     },
     "execution_count": 25,
     "metadata": {},
     "output_type": "execute_result"
    }
   ],
   "source": [
    "string1"
   ]
  },
  {
   "cell_type": "code",
   "execution_count": null,
   "metadata": {},
   "outputs": [],
   "source": []
  }
 ],
 "metadata": {
  "kernelspec": {
   "display_name": "jaxqualin",
   "language": "python",
   "name": "python3"
  },
  "language_info": {
   "codemirror_mode": {
    "name": "ipython",
    "version": 3
   },
   "file_extension": ".py",
   "mimetype": "text/x-python",
   "name": "python",
   "nbconvert_exporter": "python",
   "pygments_lexer": "ipython3",
   "version": "3.9.2"
  },
  "orig_nbformat": 4
 },
 "nbformat": 4,
 "nbformat_minor": 2
}
