{
 "cells": [
  {
   "cell_type": "code",
   "execution_count": 1,
   "metadata": {},
   "outputs": [],
   "source": [
    "import os\n",
    "cwd = os.getcwd()\n",
    "jaxqualin_path = os.path.join(cwd, os.pardir, os.pardir)"
   ]
  },
  {
   "cell_type": "code",
   "execution_count": 2,
   "metadata": {},
   "outputs": [],
   "source": [
    "import sys\n",
    "sys.path.insert(0, jaxqualin_path)"
   ]
  },
  {
   "cell_type": "code",
   "execution_count": 3,
   "metadata": {},
   "outputs": [
    {
     "name": "stderr",
     "output_type": "stream",
     "text": [
      "2023-09-29 11:37:12.416263: W external/org_tensorflow/tensorflow/compiler/xla/stream_executor/platform/default/dso_loader.cc:64] Could not load dynamic library 'libcudart.so.11.0'; dlerror: libcudart.so.11.0: cannot open shared object file: No such file or directory; LD_LIBRARY_PATH: /cm/shared/apps/slurm/current/lib64/slurm:/cm/shared/apps/slurm/current/lib64\n",
      "2023-09-29 11:37:12.705950: W external/org_tensorflow/tensorflow/compiler/xla/stream_executor/platform/default/dso_loader.cc:64] Could not load dynamic library 'libcudart.so.11.0'; dlerror: libcudart.so.11.0: cannot open shared object file: No such file or directory; LD_LIBRARY_PATH: /cm/shared/apps/slurm/current/lib64/slurm:/cm/shared/apps/slurm/current/lib64\n",
      "2023-09-29 11:37:12.730370: W external/org_tensorflow/tensorflow/compiler/xla/stream_executor/platform/default/dso_loader.cc:64] Could not load dynamic library 'libcudart.so.11.0'; dlerror: libcudart.so.11.0: cannot open shared object file: No such file or directory; LD_LIBRARY_PATH: /cm/shared/apps/slurm/current/lib64/slurm:/cm/shared/apps/slurm/current/lib64\n"
     ]
    }
   ],
   "source": [
    "import jaxqualin.postprocess\n",
    "import jaxqualin.plot\n",
    "import jaxqualin.qnmode\n",
    "\n",
    "from jaxqualin.postprocess import *\n",
    "from jaxqualin.plot import *\n",
    "from jaxqualin.qnmode import *"
   ]
  },
  {
   "cell_type": "code",
   "execution_count": 4,
   "metadata": {},
   "outputs": [],
   "source": [
    "from importlib import reload"
   ]
  },
  {
   "cell_type": "code",
   "execution_count": 5,
   "metadata": {},
   "outputs": [],
   "source": [
    "reload(jaxqualin.postprocess)\n",
    "from jaxqualin.postprocess import *\n",
    "reload(jaxqualin.plot)\n",
    "from jaxqualin.plot import *\n",
    "reload(jaxqualin.qnmode) \n",
    "from jaxqualin.qnmode import *"
   ]
  },
  {
   "cell_type": "code",
   "execution_count": 6,
   "metadata": {},
   "outputs": [],
   "source": [
    "modes = ['2.2.0', '-2.2.0', '2.2.1']"
   ]
  },
  {
   "cell_type": "code",
   "execution_count": 47,
   "metadata": {},
   "outputs": [],
   "source": [
    "with open('./fit_expressions/hyperfit_tex_2.2.0.txt', 'r') as f:\n",
    "    string = f.read()"
   ]
  },
  {
   "cell_type": "code",
   "execution_count": 51,
   "metadata": {},
   "outputs": [],
   "source": [
    "def tex_line_break(string, prefix = '', line_len = 60):\n",
    "    terms = string.replace(' - ', ' + -').split(' + ')\n",
    "    out = prefix + terms[0]\n",
    "    len_row = 0\n",
    "    for string in terms[1:]:\n",
    "        term_string = ' + ' + string\n",
    "        term_string = term_string.replace(' + -', ' - ')\n",
    "        term_string_for_len = term_string.replace('\\eta', 'a').replace('\\chi_+', 'bb').replace('\\chi_-', 'cc')\n",
    "        len_row += len(term_string_for_len)\n",
    "        if len_row > line_len:\n",
    "            out += ' \\\\\\ \\n'\n",
    "            len_row = len(term_string_for_len)\n",
    "        out += term_string\n",
    "\n",
    "    return out"
   ]
  },
  {
   "cell_type": "code",
   "execution_count": 52,
   "metadata": {},
   "outputs": [
    {
     "name": "stdout",
     "output_type": "stream",
     "text": [
      "4.061 + 0.4761 \\chi_- - 7.838 \\eta^2 + 21.4 \\eta \\chi_+ - 1.946 \\eta \\chi_- \\\\ \n",
      " + 0.869 \\chi_+^2 + 22.56 \\eta^3 - 146.4 \\eta^2 \\chi_+ + 282.4 \\eta^3 \\chi_+ \\\\ \n",
      " - 10.36 \\eta^2 \\chi_+^2 - 0.441 \\eta \\chi_+^3 - 0.2067 \\chi_+^4 \\\\ \n",
      " - 0.2864 \\chi_+^2 \\chi_-^2\n"
     ]
    }
   ],
   "source": [
    "print(tex_line_break(string), prefix = '')"
   ]
  },
  {
   "cell_type": "code",
   "execution_count": 38,
   "metadata": {},
   "outputs": [
    {
     "data": {
      "text/plain": [
       "'4.061 + 0.4761 \\\\chi_- + -7.838 \\\\eta^2 + 21.4 \\\\eta \\\\chi_+ + -1.946 \\\\eta \\\\chi_- \\\\\\\\ \\n + 0.869 \\\\chi_+^2 + 22.56 \\\\eta^3 + -146.4 \\\\eta^2 \\\\chi_+ + 282.4 \\\\eta^3 \\\\chi_+ \\\\\\\\ \\n + -10.36 \\\\eta^2 \\\\chi_+^2 + -0.441 \\\\eta \\\\chi_+^3 + -0.2067 \\\\chi_+^4 \\\\\\\\ \\n + -0.2864 \\\\chi_+^2 \\\\chi_-^2'"
      ]
     },
     "execution_count": 38,
     "metadata": {},
     "output_type": "execute_result"
    }
   ],
   "source": [
    "out"
   ]
  },
  {
   "cell_type": "code",
   "execution_count": 29,
   "metadata": {},
   "outputs": [],
   "source": [
    "string1 = 'abc'\n",
    "string2 = string1.replace('a', 'd')"
   ]
  },
  {
   "cell_type": "code",
   "execution_count": 30,
   "metadata": {},
   "outputs": [
    {
     "data": {
      "text/plain": [
       "'abc'"
      ]
     },
     "execution_count": 30,
     "metadata": {},
     "output_type": "execute_result"
    }
   ],
   "source": [
    "string1"
   ]
  },
  {
   "cell_type": "code",
   "execution_count": null,
   "metadata": {},
   "outputs": [],
   "source": []
  }
 ],
 "metadata": {
  "kernelspec": {
   "display_name": "jaxqualin",
   "language": "python",
   "name": "python3"
  },
  "language_info": {
   "codemirror_mode": {
    "name": "ipython",
    "version": 3
   },
   "file_extension": ".py",
   "mimetype": "text/x-python",
   "name": "python",
   "nbconvert_exporter": "python",
   "pygments_lexer": "ipython3",
   "version": "3.8.5"
  },
  "orig_nbformat": 4
 },
 "nbformat": 4,
 "nbformat_minor": 2
}
