{
 "cells": [
  {
   "cell_type": "code",
   "execution_count": 1,
   "metadata": {},
   "outputs": [],
   "source": [
    "import os\n",
    "cwd = os.getcwd()\n",
    "jaxqualin_path = os.path.join(cwd, os.pardir, os.pardir)"
   ]
  },
  {
   "cell_type": "code",
   "execution_count": 2,
   "metadata": {},
   "outputs": [],
   "source": [
    "import sys\n",
    "sys.path.insert(0, jaxqualin_path)"
   ]
  },
  {
   "cell_type": "code",
   "execution_count": 3,
   "metadata": {},
   "outputs": [
    {
     "name": "stderr",
     "output_type": "stream",
     "text": [
      "2023-10-02 07:13:02.947618: W external/org_tensorflow/tensorflow/compiler/xla/stream_executor/platform/default/dso_loader.cc:64] Could not load dynamic library 'libcudart.so.11.0'; dlerror: libcudart.so.11.0: cannot open shared object file: No such file or directory; LD_LIBRARY_PATH: /cm/shared/apps/slurm/current/lib64/slurm:/cm/shared/apps/slurm/current/lib64\n",
      "2023-10-02 07:13:03.284686: W external/org_tensorflow/tensorflow/compiler/xla/stream_executor/platform/default/dso_loader.cc:64] Could not load dynamic library 'libcudart.so.11.0'; dlerror: libcudart.so.11.0: cannot open shared object file: No such file or directory; LD_LIBRARY_PATH: /cm/shared/apps/slurm/current/lib64/slurm:/cm/shared/apps/slurm/current/lib64\n",
      "2023-10-02 07:13:03.303828: W external/org_tensorflow/tensorflow/compiler/xla/stream_executor/platform/default/dso_loader.cc:64] Could not load dynamic library 'libcudart.so.11.0'; dlerror: libcudart.so.11.0: cannot open shared object file: No such file or directory; LD_LIBRARY_PATH: /cm/shared/apps/slurm/current/lib64/slurm:/cm/shared/apps/slurm/current/lib64\n"
     ]
    }
   ],
   "source": [
    "import jaxqualin.postprocess\n",
    "import jaxqualin.plot\n",
    "import jaxqualin.qnmode\n",
    "\n",
    "from jaxqualin.postprocess import *\n",
    "from jaxqualin.plot import *\n",
    "from jaxqualin.qnmode import *"
   ]
  },
  {
   "cell_type": "code",
   "execution_count": 4,
   "metadata": {},
   "outputs": [],
   "source": [
    "from importlib import reload"
   ]
  },
  {
   "cell_type": "code",
   "execution_count": 5,
   "metadata": {},
   "outputs": [],
   "source": [
    "reload(jaxqualin.postprocess)\n",
    "from jaxqualin.postprocess import *\n",
    "reload(jaxqualin.plot)\n",
    "from jaxqualin.plot import *\n",
    "reload(jaxqualin.qnmode) \n",
    "from jaxqualin.qnmode import *"
   ]
  },
  {
   "cell_type": "code",
   "execution_count": 6,
   "metadata": {},
   "outputs": [],
   "source": [
    "modes = ['2.2.0', '-2.2.0', '2.2.1']"
   ]
  },
  {
   "cell_type": "code",
   "execution_count": 35,
   "metadata": {},
   "outputs": [],
   "source": [
    "mode = '2.2.0'\n",
    "\n",
    "with open(f'./fit_expressions/hyperfit_tex_A_{mode}.txt', 'r') as f:\n",
    "    A_eq = f.read()\n",
    "\n",
    "with open(f'./fit_expressions/hyperfit_tex_phi_{mode}.txt', 'r') as f:\n",
    "    phi_eq = f.read()"
   ]
  },
  {
   "cell_type": "code",
   "execution_count": 36,
   "metadata": {},
   "outputs": [],
   "source": [
    "def tex_line_break(string, prefix = '', line_len = 60, prefix_len = False):\n",
    "    terms = string.replace(' - ', ' + -').split(' + ')\n",
    "    out = prefix + terms[0]\n",
    "    len_row = 0\n",
    "    if prefix_len:\n",
    "        len_row += len(prefix)\n",
    "    for string in terms[1:]:\n",
    "        term_string = ' + ' + string\n",
    "        term_string = term_string.replace(' + -', ' - ')\n",
    "        term_string_for_len = term_string.replace('\\eta', 'a').replace('\\chi_+', 'bb').replace('\\chi_-', 'cc')\n",
    "        len_row += len(term_string_for_len)\n",
    "        if len_row > line_len:\n",
    "            out += ' \\\\\\ \\n'\n",
    "            len_row = len(term_string_for_len)\n",
    "        out += term_string\n",
    "\n",
    "    return out"
   ]
  },
  {
   "cell_type": "code",
   "execution_count": 40,
   "metadata": {},
   "outputs": [],
   "source": [
    "mode_string_tex = mode.replace('.', r'{,}')\n",
    "mode_string_display = mode.replace('.', r',')\n",
    "if mode_string_tex[0] == '-':\n",
    "    mode_string_tex = 'r' + mode_string_tex[1:]\n",
    "    mode_string_display = 'r' + mode_string_display[1:]\n",
    "\n",
    "A_string = f'A_{{{mode_string_tex}}}'\n",
    "phi_string = f'\\phi_{{{mode_string_tex}}}'"
   ]
  },
  {
   "cell_type": "code",
   "execution_count": 41,
   "metadata": {},
   "outputs": [
    {
     "name": "stdout",
     "output_type": "stream",
     "text": [
      "A_{2{,}2{,}0} = 4.004 + 1.349 \\chi_+ + 0.333 \\chi_- - 1.325 \\eta^2 \\\\ \n",
      " - 1.369 \\eta \\chi_- + 2.622 \\chi_+ \\chi_- - 32.74 \\eta^2 \\chi_+ + 4.313 \\eta \\chi_+^2 \\\\ \n",
      " - 25.18 \\eta \\chi_+ \\chi_- + 83.37 \\eta^3 \\chi_+ - 13.39 \\eta^2 \\chi_+^2 \\\\ \n",
      " + 58.01 \\eta^2 \\chi_+ \\chi_- - 0.3837 \\eta \\chi_+^3 - 0.2075 \\chi_+^4\n"
     ]
    }
   ],
   "source": [
    "print(tex_line_break(A_eq, prefix = A_string + ' = ', prefix_len = True))"
   ]
  },
  {
   "cell_type": "code",
   "execution_count": 44,
   "metadata": {},
   "outputs": [],
   "source": [
    "mdfile_string = f'''\n",
    "# {mode_string_display} mode\n",
    "\n",
    "## Fit expressions\n",
    "\n",
    "The hyperfit expressions should be used with caution, especially in regions of low amplitude or outside of the convex hull of the data points.\n",
    "Please consult the fit error plot on the bottom of this page before using the fits.\n",
    "\n",
    "### Amplitude\n",
    "$$\n",
    "{tex_line_break(A_eq, prefix = A_string + ' = ', prefix_len = True)}\n",
    "$$\n",
    "\n",
    "### Phase\n",
    "$$\n",
    "{tex_line_break(phi_eq, prefix = phi_string + ' = ', prefix_len = True)}\n",
    "$$\n",
    "\n",
    "## Interactive plot\n",
    "\n",
    "--8<-- \"docs/mode_plots/plotly_{mode}.html\"\n",
    "\n",
    "## Fit error\n",
    "\n",
    "![Image title](docs/mode_plots/error_{mode}.png){{ align=left }}\n",
    "'''"
   ]
  },
  {
   "cell_type": "code",
   "execution_count": 48,
   "metadata": {},
   "outputs": [],
   "source": [
    "with open(f'../../docs/mode_md/{mode}.md', 'w') as f:\n",
    "    f.write(mdfile_string)"
   ]
  },
  {
   "cell_type": "code",
   "execution_count": 46,
   "metadata": {},
   "outputs": [
    {
     "name": "stdout",
     "output_type": "stream",
     "text": [
      "\n",
      "# 2,2,0 mode\n",
      "\n",
      "## Fit expressions\n",
      "\n",
      "The hyperfit expressions should be used with caution, especially in regions of low amplitude or outside of the convex hull of the data points.\n",
      "Please consult the fit error plot on the bottom of this page before using the fits.\n",
      "\n",
      "### Amplitude\n",
      "$$\n",
      "A_{2{,}2{,}0} = 4.004 + 1.349 \\chi_+ + 0.333 \\chi_- - 1.325 \\eta^2 \\\\ \n",
      " - 1.369 \\eta \\chi_- + 2.622 \\chi_+ \\chi_- - 32.74 \\eta^2 \\chi_+ + 4.313 \\eta \\chi_+^2 \\\\ \n",
      " - 25.18 \\eta \\chi_+ \\chi_- + 83.37 \\eta^3 \\chi_+ - 13.39 \\eta^2 \\chi_+^2 \\\\ \n",
      " + 58.01 \\eta^2 \\chi_+ \\chi_- - 0.3837 \\eta \\chi_+^3 - 0.2075 \\chi_+^4\n",
      "$$\n",
      "\n",
      "### Phase\n",
      "$$\n",
      "\\phi_{2{,}2{,}0} = 0\n",
      "$$\n",
      "\n"
     ]
    }
   ],
   "source": [
    "print(mdfile_string)"
   ]
  },
  {
   "cell_type": "code",
   "execution_count": 43,
   "metadata": {},
   "outputs": [],
   "source": [
    "string1 = 'abc'\n",
    "string2 = string1.replace('a', 'd')"
   ]
  },
  {
   "cell_type": "code",
   "execution_count": 30,
   "metadata": {},
   "outputs": [
    {
     "data": {
      "text/plain": [
       "'abc'"
      ]
     },
     "execution_count": 30,
     "metadata": {},
     "output_type": "execute_result"
    }
   ],
   "source": [
    "string1"
   ]
  },
  {
   "cell_type": "code",
   "execution_count": null,
   "metadata": {},
   "outputs": [],
   "source": []
  }
 ],
 "metadata": {
  "kernelspec": {
   "display_name": "jaxqualin",
   "language": "python",
   "name": "python3"
  },
  "language_info": {
   "codemirror_mode": {
    "name": "ipython",
    "version": 3
   },
   "file_extension": ".py",
   "mimetype": "text/x-python",
   "name": "python",
   "nbconvert_exporter": "python",
   "pygments_lexer": "ipython3",
   "version": "3.8.5"
  },
  "orig_nbformat": 4
 },
 "nbformat": 4,
 "nbformat_minor": 2
}
