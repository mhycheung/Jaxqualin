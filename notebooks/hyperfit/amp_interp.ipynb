{
 "cells": [
  {
   "cell_type": "code",
   "execution_count": 1,
   "metadata": {},
   "outputs": [],
   "source": [
    "import os\n",
    "cwd = os.getcwd()\n",
    "jaxqualin_path = os.path.join(cwd, os.pardir, os.pardir)"
   ]
  },
  {
   "cell_type": "code",
   "execution_count": 2,
   "metadata": {},
   "outputs": [],
   "source": [
    "import sys\n",
    "sys.path.insert(0, jaxqualin_path)"
   ]
  },
  {
   "cell_type": "code",
   "execution_count": 3,
   "metadata": {},
   "outputs": [
    {
     "name": "stderr",
     "output_type": "stream",
     "text": [
      "2023-10-01 20:51:46.264857: W external/org_tensorflow/tensorflow/compiler/xla/stream_executor/platform/default/dso_loader.cc:64] Could not load dynamic library 'libcudart.so.11.0'; dlerror: libcudart.so.11.0: cannot open shared object file: No such file or directory; LD_LIBRARY_PATH: /cm/shared/apps/slurm/current/lib64/slurm:/cm/shared/apps/slurm/current/lib64\n",
      "2023-10-01 20:51:46.422729: W external/org_tensorflow/tensorflow/compiler/xla/stream_executor/platform/default/dso_loader.cc:64] Could not load dynamic library 'libcudart.so.11.0'; dlerror: libcudart.so.11.0: cannot open shared object file: No such file or directory; LD_LIBRARY_PATH: /cm/shared/apps/slurm/current/lib64/slurm:/cm/shared/apps/slurm/current/lib64\n",
      "2023-10-01 20:51:46.435129: W external/org_tensorflow/tensorflow/compiler/xla/stream_executor/platform/default/dso_loader.cc:64] Could not load dynamic library 'libcudart.so.11.0'; dlerror: libcudart.so.11.0: cannot open shared object file: No such file or directory; LD_LIBRARY_PATH: /cm/shared/apps/slurm/current/lib64/slurm:/cm/shared/apps/slurm/current/lib64\n"
     ]
    }
   ],
   "source": [
    "import jaxqualin.postprocess\n",
    "import jaxqualin.plot\n",
    "import jaxqualin.qnmode\n",
    "\n",
    "from jaxqualin.postprocess import *\n",
    "from jaxqualin.plot import *\n",
    "from jaxqualin.qnmode import *"
   ]
  },
  {
   "cell_type": "code",
   "execution_count": 4,
   "metadata": {},
   "outputs": [],
   "source": [
    "from importlib import reload"
   ]
  },
  {
   "cell_type": "code",
   "execution_count": 5,
   "metadata": {},
   "outputs": [],
   "source": [
    "reload(jaxqualin.postprocess)\n",
    "from jaxqualin.postprocess import *\n",
    "reload(jaxqualin.plot)\n",
    "from jaxqualin.plot import *\n",
    "reload(jaxqualin.qnmode) \n",
    "from jaxqualin.qnmode import *"
   ]
  },
  {
   "cell_type": "code",
   "execution_count": 70,
   "metadata": {},
   "outputs": [],
   "source": [
    "# from pmlb import fetch_data\n",
    "from sklearn.model_selection import train_test_split\n",
    "from sklearn.metrics import mean_squared_error as mse\n",
    "from sklearn.preprocessing import PolynomialFeatures\n",
    "from sklearn.linear_model import LinearRegression\n",
    "import numpy as np\n",
    "\n",
    "from scipy.interpolate import LinearNDInterpolator\n"
   ]
  },
  {
   "cell_type": "code",
   "execution_count": 7,
   "metadata": {},
   "outputs": [],
   "source": [
    "import sys\n",
    "import os"
   ]
  },
  {
   "cell_type": "code",
   "execution_count": 8,
   "metadata": {},
   "outputs": [],
   "source": [
    "os.environ[\"PATH\"] = \"/home/mcheung1/julia-1.9.0/bin\"+ os.pathsep + os.environ[\"PATH\"]"
   ]
  },
  {
   "cell_type": "code",
   "execution_count": 9,
   "metadata": {},
   "outputs": [],
   "source": [
    "import matplotlib.pyplot as plt\n",
    "plt.rc('text', usetex=True)\n",
    "plt.rc('font', family='serif')"
   ]
  },
  {
   "cell_type": "code",
   "execution_count": 10,
   "metadata": {},
   "outputs": [],
   "source": [
    "settingname = \"normal2\"\n",
    "\n",
    "ROOT_PATH = jaxqualin_path\n",
    "PLOT_PATH = os.path.join(ROOT_PATH, f\"plots/{settingname}/\")\n",
    "PLOT_PATH_ROOT = os.path.join(ROOT_PATH, f\"plots/\")"
   ]
  },
  {
   "cell_type": "code",
   "execution_count": 11,
   "metadata": {},
   "outputs": [],
   "source": [
    "runname = \"normal2_prodB1\"\n",
    "runname_validation = \"normal2_prodB3\"\n",
    "\n",
    "df = pd.read_csv(f\"../../pickle/data_frame/{runname}_physical.csv\")\n",
    "df = classify_modes(df)\n",
    "df = df_change_retro_to_pro(df)"
   ]
  },
  {
   "cell_type": "code",
   "execution_count": 12,
   "metadata": {},
   "outputs": [],
   "source": [
    "df_validation = pd.read_csv(f\"../../pickle/data_frame/{runname_validation}_physical.csv\")\n",
    "df_validation = classify_modes(df_validation)\n",
    "df_validation = df_change_retro_to_pro(df_validation)"
   ]
  },
  {
   "cell_type": "code",
   "execution_count": 13,
   "metadata": {},
   "outputs": [],
   "source": [
    "df_full = pd.concat([df, df_validation])"
   ]
  },
  {
   "cell_type": "code",
   "execution_count": 14,
   "metadata": {},
   "outputs": [],
   "source": [
    "def adjust_phi(row, df):\n",
    "    phi_med = row['phi_med']\n",
    "    SXS_num = row['SXS_num']\n",
    "    retro = row['retro']\n",
    "    mode_string = row['mode_string']\n",
    "    if mode_string == 'constant':\n",
    "        return phi_med\n",
    "    m = int(mode_string.split('.')[1])\n",
    "    row_220 = df[(df['SXS_num'] == SXS_num)&(df['l'] == 2)&(df['m'] == 2)&(df['mode_string'] == '2.2.0')]\n",
    "    phi_220 = row_220['phi_med'].values[0]\n",
    "    retro_fac = -1 if retro else 1\n",
    "    return 2*phi_med - phi_220*np.abs(m)"
   ]
  },
  {
   "cell_type": "code",
   "execution_count": 15,
   "metadata": {},
   "outputs": [],
   "source": [
    "phi_med_adj_col_full = df_full.apply(lambda row: adjust_phi(row, df_full), axis=1)\n",
    "df_full['phi_med_adj'] = phi_med_adj_col_full % (2*np.pi)"
   ]
  },
  {
   "cell_type": "code",
   "execution_count": 16,
   "metadata": {},
   "outputs": [],
   "source": [
    "phi_med_adj_col = df.apply(lambda row: adjust_phi(row, df), axis=1)\n",
    "df['phi_med_adj'] = phi_med_adj_col % (2*np.pi)"
   ]
  },
  {
   "cell_type": "code",
   "execution_count": 17,
   "metadata": {},
   "outputs": [],
   "source": [
    "# PN_dom_func = {\n",
    "#     (2,2): lambda eta: eta,\n",
    "#     (2,1): lambda eta: eta*np.sqrt(1 - 4*eta),\n",
    "#     (3,3): lambda eta: eta*np.sqrt(1 - 4*eta),\n",
    "#     (3,2): lambda eta: eta*(1 - 3*eta),\n",
    "#     (3,1): lambda eta: eta*np.sqrt(1 - 4*eta),\n",
    "#     (4,4): lambda eta: eta*(1 - 3*eta),\n",
    "#     (4,3): lambda eta: eta*np.sqrt(1 - 4*eta)*(1 - 2*eta),\n",
    "#     (4,2): lambda eta: eta*(1 - 3*eta),\n",
    "#     (4,1): lambda eta: eta*np.sqrt(1 - 4*eta)*(1 - 2*eta),\n",
    "#     (5,5): lambda eta: eta*np.sqrt(1 - 4*eta)*(1 - 2*eta),\n",
    "#     (6,6): lambda eta: eta*(1 - 5*eta + 5*eta**2),\n",
    "#     (7,7): lambda eta: eta*np.sqrt(1 - 4*eta)*(1 - 4*eta + 3*eta**2),\n",
    "#     (8,8): lambda eta: eta*(1 - 7*eta + 14*eta**2 - 7*eta**3),\n",
    "# }\n",
    "\n",
    "# dom_func_tex_string = {\n",
    "#     (2,2): r\"$\\eta$\",\n",
    "#     (2,1): r\"$\\eta\\sqrt{1 - 4\\eta}$\",\n",
    "#     (3,3): r\"$\\eta\\sqrt{1 - 4\\eta}$\",\n",
    "#     (3,2): r\"$\\eta(1 - 3\\eta)$\",\n",
    "#     (3,1): r\"$\\eta\\sqrt{1 - 4\\eta}$\",\n",
    "#     (4,4): r\"$\\eta(1 - 3\\eta)$\",\n",
    "#     (4,3): r\"$\\eta\\sqrt{1 - 4\\eta}(1 - 2\\eta)$\",\n",
    "#     (4,2): r\"$\\eta(1 - 3\\eta)$\",\n",
    "#     (4,1): r\"$\\eta\\sqrt{1 - 4\\eta}(1 - 2\\eta)$\",\n",
    "#     (5,5): r\"$\\eta\\sqrt{1 - 4\\eta}(1 - 2\\eta)$\",\n",
    "#     (6,6): r\"$\\eta(1 - 5\\eta + 5\\eta^2)$\",\n",
    "#     (7,7): r\"$\\eta\\sqrt{1 - 4\\eta}(1 - 4\\eta + 3\\eta^2)$\",\n",
    "#     (8,8): r\"$\\eta(1 - 7\\eta + 14\\eta^2 - 7\\eta^3)$\",\n",
    "# }\n",
    "\n",
    "all_lm = [(2,2),(2,1),(3,3),(3,2),(3,1),(4,4),(4,3),(4,2),(4,1),(5,5),(6,6),(7,7),(8,8)]\n",
    "zero_at_equal_mass_ratio = [(2,1),(3,3),(3,1),(4,3),(4,1),(5,5),(7,7)]\n",
    "\n",
    "PN_dom_func = {}\n",
    "\n",
    "for lm in all_lm:\n",
    "    if lm in zero_at_equal_mass_ratio:\n",
    "        PN_dom_func[lm] = lambda eta: eta*np.sqrt(1 - 4*eta)\n",
    "    else:\n",
    "        PN_dom_func[lm] = lambda eta: eta"
   ]
  },
  {
   "cell_type": "code",
   "execution_count": 72,
   "metadata": {},
   "outputs": [
    {
     "name": "stdout",
     "output_type": "stream",
     "text": [
      "1468\n",
      "2131\n",
      "1459\n",
      "1468\n",
      "1459\n",
      "2131\n",
      "1122\n",
      "156\n",
      "1122\n",
      "156\n"
     ]
    }
   ],
   "source": [
    "mode_string_pro_list = ['2.2.0', '-2.2.0', '2.2.1', '2.1.0', '-2.1.0', '2.1.1', '3.3.0', '3.3.1', '3.2.0', '4.4.0', '5.5.0']\n",
    "\n",
    "for mode_string_pro in mode_string_pro_list:\n",
    "    l, m = abs(int(mode_string_pro.split('.')[0])), int(mode_string_pro.split('.')[1])\n",
    "    mode_string_plot = mode_string_pro.replace('.', ',')\n",
    "    mode_string_plot_tex = mode_string_pro.replace('.', r'{,}')\n",
    "    if mode_string_plot[0] == '-':\n",
    "        mode_string_plot = '𝑟' + mode_string_plot[1:]\n",
    "        mode_string_plot_tex = r'r' + mode_string_plot_tex[1:]\n",
    "        PN_func = PN_dom_func[(l,m)]\n",
    "    else:\n",
    "        PN_func = PN_dom_func[(l,m)]\n",
    "\n",
    "    # screen = [1110]\n",
    "    if mode_string_pro == '5.5.0':\n",
    "        screen = [110, 40]\n",
    "    else:\n",
    "        screen = []\n",
    "    df_mode_3D = df_get_mode_3D_full(df, l, m, mode_string_pro, SXS_screen = screen, chi_low = 0.1, include_retro = False)\n",
    "    df_mode_3D = df_mode_3D.dropna()\n",
    "    # df_mode_3D = df_mode_3D[df_mode_3D['SXS_num'] > 305]\n",
    "    df_mode_3D['A_med_adj'] = df_mode_3D['A_med'] / PN_func(df_mode_3D['eta'])\n",
    "    df_mode_3D['A_med_log'] = np.log10(df_mode_3D['A_med'])\n",
    "    df_mode_3D['A_comp'] = df_mode_3D['A_med_adj'] #* np.exp(1j*df_mode_3D['phi_med_adj'])\n",
    "    df_mode_3D['A_comp_unadj'] = df_mode_3D['A_med'] #* np.exp(1j*df_mode_3D['phi_med_adj'])\n",
    "    df_mode_3D['A_real'] = np.real(df_mode_3D['A_comp'])\n",
    "    df_mode_3D['A_imag'] = np.imag(df_mode_3D['A_comp'])\n",
    "    df_mode_3D['A_range'] = np.abs(df_mode_3D['A_hi'] - df_mode_3D['A_low'])/df_mode_3D['A_med']\n",
    "    df_mode_3D['dA'] = np.abs(df_mode_3D['A_hi'] - df_mode_3D['A_low'])/2\n",
    "    df_mode_3D['A_range_inv'] = 1/df_mode_3D['A_range']\n",
    "    df_mode_3D['A_range_adj_inv'] = PN_func(df_mode_3D['eta'])*df_mode_3D['A_range_inv']\n",
    "    df_mode_3D['A_range_rel_inv'] = df_mode_3D['A_med']*df_mode_3D['A_range_inv']\n",
    "    df_mode_3D['phi_range'] = np.abs(df_mode_3D['phi_hi'] - df_mode_3D['phi_low'])\n",
    "    df_mode_3D['dphi'] = np.abs(df_mode_3D['phi_hi'] - df_mode_3D['phi_low'])/2\n",
    "    df_mode_3D['phi_range_inv'] = 1/df_mode_3D['phi_range']\n",
    "    df_mode_3D['A_range_adj_abs'] = np.sqrt((np.abs(df_mode_3D['A_hi'] - df_mode_3D['A_low']))**2 + (df_mode_3D['A_med']*(df_mode_3D['phi_hi'] - df_mode_3D['phi_low']))**2) / PN_func(df_mode_3D['eta']) /2\n",
    "    df_mode_3D['A_range_adj_abs_inv'] = 1/df_mode_3D['A_range_adj_abs']\n",
    "    df_mode_3D['A_range_adj_abs_rel_inv'] = df_mode_3D['A_med_adj']*df_mode_3D['A_range_adj_abs_inv']\n",
    "    df_mode_3D['A_range_abs'] = df_mode_3D['A_range_adj_abs'] * PN_func(df_mode_3D['eta'])\n",
    "    df_mode_3D['A_range_abs_inv'] = 1/df_mode_3D['A_range_abs']\n",
    "    df_mode_3D_full = df_get_mode_3D_full(df_full, l, m, mode_string_pro, SXS_screen = screen, chi_low = 0.1, include_retro = False)\n",
    "    df_mode_3D_full = df_mode_3D_full.dropna()\n",
    "    df_mode_3D_full['A_med_adj'] = df_mode_3D_full['A_med'] / PN_func(df_mode_3D_full['eta'])\n",
    "    df_mode_3D_full['A_med_log'] = np.log10(df_mode_3D_full['A_med'])\n",
    "    df_mode_3D_full['A_comp'] = df_mode_3D_full['A_med_adj'] * np.exp(1j*df_mode_3D_full['phi_med_adj'])\n",
    "    df_mode_3D_full['A_comp_unadj'] = df_mode_3D_full['A_med'] * np.exp(1j*df_mode_3D_full['phi_med_adj'])\n",
    "    df_mode_3D_full['A_real'] = np.real(df_mode_3D_full['A_comp'])\n",
    "    df_mode_3D_full['A_imag'] = np.imag(df_mode_3D_full['A_comp'])\n",
    "    df_mode_3D_full['A_range'] = np.abs(df_mode_3D_full['A_hi'] - df_mode_3D_full['A_low'])/df_mode_3D_full['A_med']\n",
    "    df_mode_3D_full['dA'] = np.abs(df_mode_3D_full['A_hi'] - df_mode_3D_full['A_low'])/2\n",
    "    df_mode_3D_full['A_range_inv'] = 1/df_mode_3D_full['A_range']\n",
    "    df_mode_3D_full['A_range_adj_inv'] = PN_func(df_mode_3D_full['eta'])*df_mode_3D_full['A_range_inv']\n",
    "    df_mode_3D_full['A_range_rel_inv'] = df_mode_3D_full['A_med']*df_mode_3D_full['A_range_inv']\n",
    "    df_mode_3D_full['phi_range'] = np.abs(df_mode_3D_full['phi_hi'] - df_mode_3D_full['phi_low'])\n",
    "    df_mode_3D_full['dphi'] = np.abs(df_mode_3D_full['phi_hi'] - df_mode_3D_full['phi_low'])/2\n",
    "    df_mode_3D_full['phi_range_inv'] = 1/df_mode_3D_full['phi_range']\n",
    "    df_mode_3D_full['A_range_adj_abs'] = np.sqrt((np.abs(df_mode_3D_full['A_hi'] - df_mode_3D_full['A_low']))**2 + (df_mode_3D_full['A_med']*(df_mode_3D_full['phi_hi'] - df_mode_3D_full['phi_low']))**2) / PN_func(df_mode_3D_full['eta']) /2\n",
    "    df_mode_3D_full['A_range_adj_abs_inv'] = 1/df_mode_3D_full['A_range_adj_abs']\n",
    "    df_mode_3D_full['A_range_adj_abs_rel_inv'] = df_mode_3D_full['A_med_adj']*df_mode_3D_full['A_range_adj_abs_inv']\n",
    "    df_mode_3D_full['A_range_abs'] = df_mode_3D_full['A_range_adj_abs'] * PN_func(df_mode_3D_full['eta'])\n",
    "    df_mode_3D_full['A_range_abs_inv'] = 1/df_mode_3D_full['A_range_abs']\n",
    "\n",
    "\n",
    "    df_mode_3D_full_full = df_mode_3D_full.copy()\n",
    "    df_mode_3D_full = df_mode_3D_full[\n",
    "        (~((df_mode_3D_full['SXS_num'] >= 209) & (df_mode_3D_full['SXS_num'] <= 305))) & \n",
    "        (~((df_mode_3D_full['SXS_num'] >= 1419) & (df_mode_3D_full['SXS_num'] <= 1509)))]\n",
    "    equal_mass_ratio_tol = 0.24\n",
    "\n",
    "    if (l,m) in zero_at_equal_mass_ratio:\n",
    "        df_mode_3D = df_mode_3D[df_mode_3D['eta'] < equal_mass_ratio_tol]\n",
    "        df_mode_3D_full = df_mode_3D_full[df_mode_3D_full['eta'] < equal_mass_ratio_tol]\n",
    "    # if mode_string_pro == '4.4.0':\n",
    "    #     df_mode_3D = df_mode_3D[df_mode_3D['eta'] < 0.225]\n",
    "    #     df_mode_3D_full = df_mode_3D_full[df_mode_3D_full['eta'] < 0.225]\n",
    "    def phase_push(phase, theta):\n",
    "        return (phase + theta)%(2*np.pi)\n",
    "    def unwrap_crude(df, eta_cut, theta, thresh = np.pi, up = True, SXS_minus = [], SXS_plus = []):\n",
    "        phase_pushed = phase_push(df['phi_med_adj'], theta)\n",
    "        if up:\n",
    "            phase_pushed[(df['eta'] < eta_cut) & (phase_pushed < thresh)] += 2*np.pi \n",
    "            # phase_pushed[(eta > eta_cut) & (phase_pushed > np.pi)] -= 2*np.pi\n",
    "        else:\n",
    "            # phase_pushed[(eta > eta_cut) & (phase_pushed < np.pi)] += 2*np.pi \n",
    "            phase_pushed[(df['eta'] < eta_cut) & (phase_pushed > thresh)] -= 2*np.pi\n",
    "        for SXS_num in SXS_minus:\n",
    "            if SXS_num in df['SXS_num'].values:\n",
    "                phase_pushed[df['SXS_num'] == SXS_num] -= 2*np.pi\n",
    "        for SXS_num in SXS_plus:\n",
    "            if SXS_num in df['SXS_num'].values:\n",
    "                phase_pushed[df['SXS_num'] == SXS_num] += 2*np.pi\n",
    "        return phase_pushed - theta\n",
    "    push_dict = {'3.2.0': (0.2, np.pi/2-0.43, np.pi, False, [1468, 2131, 1459], []),\n",
    "                '4.4.0': (0., -0.9, np.pi, False, [1122, 156], []),\n",
    "                '5.5.0': (0., -0.5, np.pi, False, [], []),\n",
    "                '-2.2.0': (0.17, -2.3, np.pi, True, [], []),\n",
    "                '-2.1.0': (0.17, -2.8, 1, True, [], [1441, 1426])}\n",
    "    df_mode_3D_full_full['phase_pushed'] = phase_push(df_mode_3D_full_full['phi_med_adj'], -2.4)\n",
    "    if mode_string_pro in push_dict.keys():\n",
    "        eta_cut, theta, thresh, up, SXS_minus, SXS_plus = push_dict[mode_string_pro]\n",
    "        df_mode_3D_full_full['phase_unwrapped'] = unwrap_crude(df_mode_3D_full_full, eta_cut, theta, thresh, up, SXS_minus, SXS_plus)\n",
    "        df_mode_3D['phase_unwrapped'] = unwrap_crude(df_mode_3D, eta_cut, theta, thresh, up, SXS_minus, SXS_plus)\n",
    "        df_mode_3D_full['phase_unwrapped'] = unwrap_crude(df_mode_3D_full, eta_cut, theta, thresh, up, SXS_minus, SXS_plus)\n",
    "    else:\n",
    "        df_mode_3D_full_full['phase_unwrapped'] = df_mode_3D_full_full['phi_med_adj']\n",
    "        df_mode_3D['phase_unwrapped'] = df_mode_3D['phi_med_adj']\n",
    "        df_mode_3D_full['phase_unwrapped'] = df_mode_3D_full['phi_med_adj']\n",
    "    # import plotly.express as px\n",
    "    # fig = px.scatter_3d(df_mode_3D_full_full, x='chi_p', y='chi_m', z='eta', color='phase_unwrapped', opacity=0.5, color_continuous_scale='viridis',\n",
    "    #                     hover_name = 'SXS_num')\n",
    "    # # fig = px.scatter_3d(df_mode_3D_full, x='chi_p', y='chi_m', z='eta', color='phase_pushed', opacity=0.5, color_continuous_scale='viridis')\n",
    "    # fig.show()\n",
    "    A = df_mode_3D['A_med']\n",
    "    dA = df_mode_3D['dA']\n",
    "    phi = df_mode_3D['phase_unwrapped']\n",
    "    dphi = df_mode_3D['dphi']\n",
    "    eta = df_mode_3D['eta']\n",
    "    chi_p = df_mode_3D['chi_p']\n",
    "    chi_m = df_mode_3D['chi_m']\n",
    "    q = df_mode_3D['q']\n",
    "    chi_1 = df_mode_3D['chi_1_z']\n",
    "    chi_2 = df_mode_3D['chi_2_z']\n",
    "\n",
    "    interpolate_data_dict = {'A': A, 'dA': dA, 'phi': phi, 'dphi': dphi, 'eta': eta, 'chi_p': chi_p, 'chi_m': chi_m, 'q': q, 'chi_1': chi_1, 'chi_2': chi_2}\n",
    "    for key in interpolate_data_dict.keys():\n",
    "        interpolate_data_dict[key] = interpolate_data_dict[key].to_list()\n",
    "\n",
    "    with open(f\"../../pickle/interpolate_data/{mode_string_pro}_interpolate_data.json\", \"w\") as f:\n",
    "        json.dump(interpolate_data_dict, f)\n",
    "\n",
    "    points_eta_chi_p_chi_m = np.array([eta, chi_p, chi_m]).T"
   ]
  },
  {
   "cell_type": "code",
   "execution_count": 89,
   "metadata": {},
   "outputs": [],
   "source": [
    "with open(f\"../../pickle/interpolate_data/5.5.0_interpolate_data.json\", \"r\") as f:\n",
    "    interpolator_data_dict = json.load(f)"
   ]
  },
  {
   "cell_type": "code",
   "execution_count": 90,
   "metadata": {},
   "outputs": [],
   "source": [
    "import jaxqualin.hyper\n",
    "from jaxqualin.hyper import *"
   ]
  },
  {
   "cell_type": "code",
   "execution_count": 98,
   "metadata": {},
   "outputs": [],
   "source": [
    "reload(jaxqualin.hyper)\n",
    "from jaxqualin.hyper import *"
   ]
  },
  {
   "cell_type": "code",
   "execution_count": 104,
   "metadata": {},
   "outputs": [],
   "source": [
    "interpolator_dict = make_hyper_interpolator(interpolate_data_dict, PN = False)"
   ]
  },
  {
   "cell_type": "code",
   "execution_count": 105,
   "metadata": {},
   "outputs": [],
   "source": [
    "A_interp = interpolator_dict['A']([2, 0.1, -0.1])\n",
    "dA_interp = interpolator_dict['dA']([2, 0.1, -0.1])\n",
    "phi_interp = interpolator_dict['phi']([2, 0.1, -0.1])\n",
    "dphi_interp = interpolator_dict['dphi']([2, 0.1, -0.1])"
   ]
  },
  {
   "cell_type": "code",
   "execution_count": 106,
   "metadata": {},
   "outputs": [
    {
     "name": "stdout",
     "output_type": "stream",
     "text": [
      "[0.0139963] [9.41465187e-05] [2.78888697] [0.0084431]\n"
     ]
    }
   ],
   "source": [
    "print(A_interp, dA_interp, phi_interp, dphi_interp)"
   ]
  },
  {
   "cell_type": "code",
   "execution_count": null,
   "metadata": {},
   "outputs": [],
   "source": []
  },
  {
   "cell_type": "code",
   "execution_count": null,
   "metadata": {},
   "outputs": [],
   "source": []
  }
 ],
 "metadata": {
  "kernelspec": {
   "display_name": "jaxqualin",
   "language": "python",
   "name": "python3"
  },
  "language_info": {
   "codemirror_mode": {
    "name": "ipython",
    "version": 3
   },
   "file_extension": ".py",
   "mimetype": "text/x-python",
   "name": "python",
   "nbconvert_exporter": "python",
   "pygments_lexer": "ipython3",
   "version": "3.8.5"
  },
  "orig_nbformat": 4
 },
 "nbformat": 4,
 "nbformat_minor": 2
}
