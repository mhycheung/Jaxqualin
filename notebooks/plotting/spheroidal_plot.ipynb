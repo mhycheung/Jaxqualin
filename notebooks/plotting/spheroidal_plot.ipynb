{
 "cells": [
  {
   "cell_type": "code",
   "execution_count": 1,
   "metadata": {},
   "outputs": [
    {
     "name": "stderr",
     "output_type": "stream",
     "text": [
      "2023-06-09 07:24:51.307084: W external/org_tensorflow/tensorflow/compiler/xla/stream_executor/platform/default/dso_loader.cc:64] Could not load dynamic library 'libcudart.so.11.0'; dlerror: libcudart.so.11.0: cannot open shared object file: No such file or directory; LD_LIBRARY_PATH: /cm/shared/apps/slurm/current/lib64/slurm:/cm/shared/apps/slurm/current/lib64\n",
      "2023-06-09 07:24:51.390100: W external/org_tensorflow/tensorflow/compiler/xla/stream_executor/platform/default/dso_loader.cc:64] Could not load dynamic library 'libcudart.so.11.0'; dlerror: libcudart.so.11.0: cannot open shared object file: No such file or directory; LD_LIBRARY_PATH: /cm/shared/apps/slurm/current/lib64/slurm:/cm/shared/apps/slurm/current/lib64\n",
      "2023-06-09 07:24:51.394637: W external/org_tensorflow/tensorflow/compiler/xla/stream_executor/platform/default/dso_loader.cc:64] Could not load dynamic library 'libcudart.so.11.0'; dlerror: libcudart.so.11.0: cannot open shared object file: No such file or directory; LD_LIBRARY_PATH: /cm/shared/apps/slurm/current/lib64/slurm:/cm/shared/apps/slurm/current/lib64\n"
     ]
    }
   ],
   "source": [
    "import postprocess\n",
    "import plot\n",
    "import QuasinormalMode\n",
    "import spheroidal\n",
    "\n",
    "from postprocess import *\n",
    "from plot import *\n",
    "from QuasinormalMode import *\n",
    "from spheroidal import *"
   ]
  },
  {
   "cell_type": "code",
   "execution_count": 2,
   "metadata": {},
   "outputs": [],
   "source": [
    "from importlib import reload"
   ]
  },
  {
   "cell_type": "code",
   "execution_count": 3,
   "metadata": {},
   "outputs": [],
   "source": [
    "reload(postprocess)\n",
    "from postprocess import *\n",
    "reload(plot)\n",
    "from plot import *\n",
    "reload(QuasinormalMode) \n",
    "from QuasinormalMode import *\n",
    "reload(spheroidal)\n",
    "from spheroidal import *"
   ]
  },
  {
   "cell_type": "code",
   "execution_count": 9,
   "metadata": {},
   "outputs": [],
   "source": [
    "import pandas as pd\n",
    "from matplotlib import ticker \n",
    "from matplotlib.cm import get_cmap"
   ]
  },
  {
   "cell_type": "code",
   "execution_count": 11,
   "metadata": {},
   "outputs": [],
   "source": [
    "plt.rc('text', usetex=True)\n",
    "plt.rc('font', family='serif')"
   ]
  },
  {
   "cell_type": "code",
   "execution_count": 5,
   "metadata": {},
   "outputs": [],
   "source": [
    "settingname = \"normal2_prodB1\"\n",
    "df = pd.read_csv(f\"./pickle/data_frame/{settingname}.csv\")"
   ]
  },
  {
   "cell_type": "code",
   "execution_count": 6,
   "metadata": {},
   "outputs": [],
   "source": [
    "df = classify_modes(df)"
   ]
  },
  {
   "cell_type": "code",
   "execution_count": 7,
   "metadata": {},
   "outputs": [],
   "source": [
    "ROOT_PATH = globals()['_dh'][0]\n",
    "PLOT_PATH = os.path.join(ROOT_PATH, f\"plots/{settingname}/\")\n",
    "PLOT_PATH_ROOT = os.path.join(ROOT_PATH, f\"plots/\")"
   ]
  },
  {
   "cell_type": "code",
   "execution_count": 8,
   "metadata": {},
   "outputs": [],
   "source": [
    "spheroidal_check_list = [(2, 2, 3, 0), (3, 2, 2, 0)]"
   ]
  },
  {
   "cell_type": "code",
   "execution_count": 20,
   "metadata": {},
   "outputs": [
    {
     "name": "stdout",
     "output_type": "stream",
     "text": [
      "233 0.389877236144012\n",
      "236 0.4268508766060001\n",
      "237 0.4645534520110005\n",
      "241 0.526308386718\n",
      "260 0.1244714960710012\n",
      "261 0.2397770557600026\n",
      "262 0.270613474329\n",
      "264 0.2495322685770005\n",
      "265 0.2566123051830005\n",
      "266 0.2843549342800001\n",
      "267 0.299237657077\n",
      "1445 0.1576790375861976\n",
      "1446 0.1797445262140178\n",
      "1455 0.0212991195598697\n",
      "1461 0.3247435333170594\n",
      "1462 0.2619787032171229\n",
      "1484 0.3129016027050195\n",
      "1494 0.4156907034660702\n",
      "1449 0.0104997153282985\n"
     ]
    },
    {
     "data": {
      "image/png": "[encoded data removed]",
      "text/plain": [
       "<Figure size 1400x500 with 3 Axes>"
      ]
     },
     "metadata": {},
     "output_type": "display_data"
    }
   ],
   "source": [
    "fig, axs = plt.subplots(1,2, figsize = (14,5))\n",
    "\n",
    "savestrings = []\n",
    "\n",
    "for (l, m, l_p, n_p), ax in zip(spheroidal_check_list, axs):\n",
    "    mix_check_num = mixing_check_SXS_nums(df, l, m, l_p, n_p)\n",
    "\n",
    "    ratio_err_list = []\n",
    "    chi_list = []\n",
    "\n",
    "    for SXS_num in mix_check_num:\n",
    "        df_num = df[df['SXS_num'] == SXS_num]\n",
    "        chi_rem = df_num['chi_rem'].values[0]\n",
    "        chi_list.append(chi_rem)\n",
    "        A_ratio, phi_diff = give_mixing_ratio(df_num, l, m, l_p, n_p)\n",
    "        mu = ssmc_ratio(l, m, l_p, n_p, chi_rem)\n",
    "        muabs = np.abs(mu)\n",
    "        ratio_err = np.abs((A_ratio - muabs)/muabs)\n",
    "        if ratio_err > 1:\n",
    "            print(SXS_num, chi_rem)\n",
    "        ratio_err_list.append(ratio_err)\n",
    "\n",
    "    ratio_err_list = np.array(ratio_err_list)\n",
    "    chi_list = np.array(chi_list)\n",
    "\n",
    "    chi_rem_color_list = np.linspace(0, 1, num = 11)[:-1]\n",
    "    cmap = get_cmap('viridis')\n",
    "    \n",
    "    logbins = np.logspace(np.log10(min(ratio_err_list)),np.log10(max(ratio_err_list)),30)\n",
    "    for i, chi in enumerate(chi_rem_color_list):\n",
    "        ax.hist(ratio_err_list[chi_list > chi], bins = logbins, color = cmap(chi))\n",
    "    # add colorbar to the plot corresponding to chi_rem\n",
    "    sm = plt.cm.ScalarMappable(cmap=cmap, norm=plt.Normalize(vmin=0, vmax=1))\n",
    "    sm._A = []\n",
    "    ax.set_xscale('log')\n",
    "    ax.set_xlabel(r\"$\\delta A_{\\rm mix}$\", fontsize = 16)\n",
    "    ax.set_ylabel(\"Count\", fontsize = 16)\n",
    "    # ax.set_title(f\"{l_p}.{m}.{n_p} mixing into lm = {l}{m}\", fontsize = 20)\n",
    "\n",
    "    textstr = f\"${l_p}{{,}}{m}{{,}}{n_p} \" +r\"\\to\" + f\" {l}{{,}}{m}$\"\n",
    "    ax.text(0.95, 0.95, textstr, transform=ax.transAxes, fontsize=18,\n",
    "            verticalalignment='top', horizontalalignment='right')\n",
    "    \n",
    "    savestrings.append(f\"{l}{m}_{l_p}.{m}.{n_p}\")\n",
    "\n",
    "    # plt.savefig(PLOT_PATH + f\"spheroidal/{settingname}_{l}{m}_{l_p}.{m}.{n_p}.pdf\", bbox_inches = \"tight\")\n",
    "    # plt.savefig(PLOT_PATH + f\"spheroidal/{settingname}_{l}{m}_{l_p}.{m}.{n_p}.png\", dpi = 150, bbox_inches = \"tight\",\n",
    "    #         facecolor='white', transparent=False)\n",
    "\n",
    "savestring = '_'.join(savestrings)\n",
    "\n",
    "cbar = fig.colorbar(sm, ax = axs)\n",
    "cbar.ax.set_ylabel(r\"$\\chi_{\\rm rem}$\", fontsize = 16)\n",
    "\n",
    "plt.savefig(PLOT_PATH_ROOT + f\"{settingname}_{savestring}.pdf\", bbox_inches = \"tight\")\n",
    "\n",
    "# fig.tight_layout()"
   ]
  },
  {
   "cell_type": "code",
   "execution_count": null,
   "metadata": {},
   "outputs": [],
   "source": []
  }
 ],
 "metadata": {
  "kernelspec": {
   "display_name": "jaxqualin",
   "language": "python",
   "name": "python3"
  },
  "language_info": {
   "codemirror_mode": {
    "name": "ipython",
    "version": 3
   },
   "file_extension": ".py",
   "mimetype": "text/x-python",
   "name": "python",
   "nbconvert_exporter": "python",
   "pygments_lexer": "ipython3",
   "version": "3.8.5"
  },
  "orig_nbformat": 4
 },
 "nbformat": 4,
 "nbformat_minor": 2
}
