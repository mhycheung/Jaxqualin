{
 "cells": [
  {
   "cell_type": "code",
   "execution_count": 14,
   "metadata": {},
   "outputs": [],
   "source": [
    "import os, stat"
   ]
  },
  {
   "cell_type": "code",
   "execution_count": 15,
   "metadata": {},
   "outputs": [],
   "source": [
    "import Waveforms\n",
    "from Waveforms import *"
   ]
  },
  {
   "cell_type": "code",
   "execution_count": 16,
   "metadata": {},
   "outputs": [],
   "source": [
    "ROOT_PATH = globals()['_dh'][0]\n",
    "PLOT_PATH_ROOT = os.path.join(ROOT_PATH, f\"plots/\")\n",
    "SLURM_PATH_ROOT = os.path.join(ROOT_PATH, \"slurm_scripts/\")\n",
    "\n",
    "venv_activate_path = \"/home/mcheung1/Ringdown/jaxqualin/bin/activate\"\n",
    "slurm_email = \"hcheung5@jhu.edu\"\n",
    "python_script_path = os.path.join(ROOT_PATH, \"convergence_test.py\")"
   ]
  },
  {
   "cell_type": "code",
   "execution_count": 17,
   "metadata": {},
   "outputs": [],
   "source": [
    "runname = \"convergence_test_3\"\n",
    "SXS_num = \"0305\"\n",
    "runname_full = f\"{SXS_num}_{runname}\"\n",
    "\n",
    "opts_1 = \"-l -mn 200000 -tl 0 -th 50 -tn 501 -oih -1 -xt 1e-11 -gt 1e-11 -ft 1e-11\"\n",
    "guess_num = 10\n",
    "N_list = [5, 6, 7, 8, 9, 10]"
   ]
  },
  {
   "cell_type": "code",
   "execution_count": 18,
   "metadata": {},
   "outputs": [
    {
     "name": "stdout",
     "output_type": "stream",
     "text": [
      "Found the following files to load from the SXS catalog:\n",
      "    SXS:BBH:0305v5/Lev6/rhOverM_Asymptotic_GeometricUnits_CoM.h5\n",
      "Found the following files to load from the SXS catalog:\n",
      "    SXS:BBH:0305v5/Lev6/metadata.json\n"
     ]
    }
   ],
   "source": [
    "h_dict, _ = get_relevant_lm_waveforms_SXS(SXS_num)"
   ]
  },
  {
   "cell_type": "code",
   "execution_count": 19,
   "metadata": {},
   "outputs": [],
   "source": [
    "relevant_lm_list = [tuple(map(int,str.split('.'))) for str in list(h_dict.keys())]\n",
    "lm_num = len(relevant_lm_list)"
   ]
  },
  {
   "cell_type": "code",
   "execution_count": 20,
   "metadata": {},
   "outputs": [],
   "source": [
    "slurm_dir = os.path.join(SLURM_PATH_ROOT, f\"convergence/\")\n",
    "os.makedirs(slurm_dir, exist_ok = True)\n",
    "\n",
    "bash_dir = os.path.join(SLURM_PATH_ROOT, f\"convergence/bash_scripts/{runname_full}/\")\n",
    "os.makedirs(bash_dir, exist_ok = True)"
   ]
  },
  {
   "cell_type": "code",
   "execution_count": 21,
   "metadata": {},
   "outputs": [],
   "source": [
    "N_string = \"\"\n",
    "for N_free in N_list:\n",
    "    N_string += f\"{N_free} \"\n",
    "\n",
    "mem = int(lm_num*2)"
   ]
  },
  {
   "cell_type": "code",
   "execution_count": 22,
   "metadata": {},
   "outputs": [],
   "source": [
    "slurm_head = f'''#!/bin/bash\n",
    "#SBATCH --job-name={runname_full}  \n",
    "#SBATCH --mail-type=ALL          \n",
    "#SBATCH --mail-user={slurm_email}             \n",
    "#SBATCH --nodes=1\n",
    "#SBATCH --ntasks-per-node={lm_num}\n",
    "#SBATCH --cpus-per-task=1\n",
    "#SBATCH --mem={mem}gb                     \n",
    "#SBATCH --time=24:00:00               \n",
    "#SBATCH --output={SLURM_PATH_ROOT}/slurm_out/convergence/{runname_full}_%j.log   \n",
    "#SBATCH --partition=shared\n",
    "#SBATCH --account=cit122\n",
    "#SBATCH --array=0-{guess_num-1}\n",
    "\n",
    "pwd; hostname; date\n",
    "\n",
    "source {venv_activate_path}\n",
    "export PYTHONPATH=$PYTHONPATH:/home/mcheung1/Ringdown/jaxqualin/Jaxqualin\n",
    "\n",
    "'''\n"
   ]
  },
  {
   "cell_type": "code",
   "execution_count": 23,
   "metadata": {},
   "outputs": [],
   "source": [
    "for lm in relevant_lm_list:\n",
    "    l, m = lm\n",
    "    lm_file_loc = os.path.join(bash_dir, f\"lm_{l}{m}.sh\")\n",
    "    bash_script = f'''#!/bin/bash\n",
    "\n",
    "source {venv_activate_path}\n",
    "export PYTHONPATH=$PYTHONPATH:/home/mcheung1/Ringdown/jaxqualin/Jaxqualin\n",
    "\n",
    "script=\"{python_script_path}\"\n",
    "runname=\"{SXS_num}\"\n",
    "\n",
    "opts=\"-n $SLURM_ARRAY_TASK_ID {opts_1}\"\n",
    "\n",
    "'''\n",
    "    for N_free in N_list:\n",
    "        line = f\"python $script $runname {l} {m} {N_free} {guess_num} {runname} $opts \\n\"\n",
    "        bash_script += line\n",
    "    with open(lm_file_loc, 'w') as f:\n",
    "        f.write(bash_script)\n",
    "    os.chmod(lm_file_loc, stat.S_IRWXU)"
   ]
  },
  {
   "cell_type": "code",
   "execution_count": 24,
   "metadata": {},
   "outputs": [
    {
     "name": "stdout",
     "output_type": "stream",
     "text": [
      "#!/bin/bash\n",
      "\n",
      "source /home/mcheung1/Ringdown/jaxqualin/bin/activate\n",
      "export PYTHONPATH=$PYTHONPATH:/home/mcheung1/Ringdown/jaxqualin/Jaxqualin\n",
      "\n",
      "script=\"/home/mcheung1/Ringdown/jaxqualin/Jaxqualin/convergence_test.py\"\n",
      "runname=\"0305\"\n",
      "\n",
      "opts=\"-n $SLURM_ARRAY_TASK_ID -l -mn 200000 -tl 0 -th 50 -tn 501 -oih -1 -xt 1e-11 -gt 1e-11 -ft 1e-11\"\n",
      "\n",
      "python $script $runname 6 6 5 10 convergence_test_3 $opts \n",
      "python $script $runname 6 6 6 10 convergence_test_3 $opts \n",
      "python $script $runname 6 6 7 10 convergence_test_3 $opts \n",
      "python $script $runname 6 6 8 10 convergence_test_3 $opts \n",
      "python $script $runname 6 6 9 10 convergence_test_3 $opts \n",
      "python $script $runname 6 6 10 10 convergence_test_3 $opts \n",
      "\n"
     ]
    }
   ],
   "source": [
    "print(bash_script)"
   ]
  },
  {
   "cell_type": "code",
   "execution_count": 25,
   "metadata": {},
   "outputs": [],
   "source": [
    "slurm_script = slurm_head\n",
    "\n",
    "for lm in relevant_lm_list:\n",
    "    l, m = lm\n",
    "    lm_file_loc = os.path.join(bash_dir, f\"lm_{l}{m}.sh\")\n",
    "    slurm_main_lm = \"\"\n",
    "    N_string = \"\"\n",
    "    for N_free in N_list:\n",
    "        N_string += f\"{N_free} \"\n",
    "    slurm_main_lm_N = (f\"srun --exclusive -n 1 -c 1 {lm_file_loc} {l} {m} &\\n\")\n",
    "    slurm_script += slurm_main_lm_N\n",
    "\n",
    "slurm_script += '''\n",
    "wait\n",
    "\n",
    "date'''\n"
   ]
  },
  {
   "cell_type": "code",
   "execution_count": 26,
   "metadata": {},
   "outputs": [
    {
     "name": "stdout",
     "output_type": "stream",
     "text": [
      "#!/bin/bash\n",
      "#SBATCH --job-name=0305_convergence_test_3  \n",
      "#SBATCH --mail-type=ALL          \n",
      "#SBATCH --mail-user=hcheung5@jhu.edu             \n",
      "#SBATCH --nodes=1\n",
      "#SBATCH --ntasks-per-node=8\n",
      "#SBATCH --cpus-per-task=1\n",
      "#SBATCH --mem=16gb                     \n",
      "#SBATCH --time=24:00:00               \n",
      "#SBATCH --output=/home/mcheung1/Ringdown/jaxqualin/Jaxqualin/slurm_scripts//slurm_out/convergence/0305_convergence_test_3_%j.log   \n",
      "#SBATCH --partition=shared\n",
      "#SBATCH --account=cit122\n",
      "#SBATCH --array=0-9\n",
      "\n",
      "pwd; hostname; date\n",
      "\n",
      "source /home/mcheung1/Ringdown/jaxqualin/bin/activate\n",
      "export PYTHONPATH=$PYTHONPATH:/home/mcheung1/Ringdown/jaxqualin/Jaxqualin\n",
      "\n",
      "srun --exclusive -n 1 -c 1 /home/mcheung1/Ringdown/jaxqualin/Jaxqualin/slurm_scripts/convergence/bash_scripts/0305_convergence_test_3/lm_22.sh 2 2 &\n",
      "srun --exclusive -n 1 -c 1 /home/mcheung1/Ringdown/jaxqualin/Jaxqualin/slurm_scripts/convergence/bash_scripts/0305_convergence_test_3/lm_32.sh 3 2 &\n",
      "srun --exclusive -n 1 -c 1 /home/mcheung1/Ringdown/jaxqualin/Jaxqualin/slurm_scripts/convergence/bash_scripts/0305_convergence_test_3/lm_33.sh 3 3 &\n",
      "srun --exclusive -n 1 -c 1 /home/mcheung1/Ringdown/jaxqualin/Jaxqualin/slurm_scripts/convergence/bash_scripts/0305_convergence_test_3/lm_44.sh 4 4 &\n",
      "srun --exclusive -n 1 -c 1 /home/mcheung1/Ringdown/jaxqualin/Jaxqualin/slurm_scripts/convergence/bash_scripts/0305_convergence_test_3/lm_20.sh 2 0 &\n",
      "srun --exclusive -n 1 -c 1 /home/mcheung1/Ringdown/jaxqualin/Jaxqualin/slurm_scripts/convergence/bash_scripts/0305_convergence_test_3/lm_21.sh 2 1 &\n",
      "srun --exclusive -n 1 -c 1 /home/mcheung1/Ringdown/jaxqualin/Jaxqualin/slurm_scripts/convergence/bash_scripts/0305_convergence_test_3/lm_55.sh 5 5 &\n",
      "srun --exclusive -n 1 -c 1 /home/mcheung1/Ringdown/jaxqualin/Jaxqualin/slurm_scripts/convergence/bash_scripts/0305_convergence_test_3/lm_66.sh 6 6 &\n",
      "\n",
      "wait\n",
      "\n",
      "date\n"
     ]
    }
   ],
   "source": [
    "print(slurm_script)"
   ]
  },
  {
   "cell_type": "code",
   "execution_count": 14,
   "metadata": {},
   "outputs": [],
   "source": [
    "with open(os.path.join(slurm_dir, f\"{runname_full}.sbatch\"), 'w') as f:\n",
    "    f.write(slurm_script)"
   ]
  },
  {
   "cell_type": "code",
   "execution_count": null,
   "metadata": {},
   "outputs": [],
   "source": []
  }
 ],
 "metadata": {
  "kernelspec": {
   "display_name": "jaxqualin",
   "language": "python",
   "name": "python3"
  },
  "language_info": {
   "codemirror_mode": {
    "name": "ipython",
    "version": 3
   },
   "file_extension": ".py",
   "mimetype": "text/x-python",
   "name": "python",
   "nbconvert_exporter": "python",
   "pygments_lexer": "ipython3",
   "version": "3.8.5"
  },
  "orig_nbformat": 4
 },
 "nbformat": 4,
 "nbformat_minor": 2
}
