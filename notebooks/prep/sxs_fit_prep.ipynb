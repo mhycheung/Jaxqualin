{
 "cells": [
  {
   "cell_type": "code",
   "execution_count": 1,
   "metadata": {},
   "outputs": [],
   "source": [
    "import sxs\n",
    "import pandas as pd\n",
    "import numpy as np\n",
    "import os\n",
    "\n",
    "catalog = sxs.load(\"catalog\")"
   ]
  },
  {
   "cell_type": "code",
   "execution_count": null,
   "metadata": {},
   "outputs": [],
   "source": []
  },
  {
   "cell_type": "code",
   "execution_count": 2,
   "metadata": {},
   "outputs": [],
   "source": [
    "ROOT_PATH = current_folder = globals()['_dh'][0]\n",
    "SLURM_PATH = os.path.join(ROOT_PATH, 'slurm_scripts/')"
   ]
  },
  {
   "cell_type": "code",
   "execution_count": 3,
   "metadata": {},
   "outputs": [],
   "source": [
    "CCE = True\n",
    "\n",
    "if CCE:\n",
    "    cat_name = 'CCE'\n",
    "else:\n",
    "    cat_name = 'SXS'"
   ]
  },
  {
   "cell_type": "code",
   "execution_count": 4,
   "metadata": {},
   "outputs": [],
   "source": [
    "if CCE:\n",
    "    SXS_num_screened = ['0001', '0002', '0003', '0004', '0005', '0006', '0007',  \n",
    "                        '0010', '0011', '0012']\n",
    "else:\n",
    "    sxs_df = catalog.simulations_dataframe\n",
    "    relevant_sims = sxs_df[(sxs_df[\"object_types\"] == \"BHBH\") & ((sxs_df[\"reference_eccentricity\"] < 0.001) | (np.isnan(sxs_df[\"reference_eccentricity\"]))) &\n",
    "        (sxs_df[\"reference_chi1_perp\"] < 0.001) & (sxs_df[\"reference_chi2_perp\"] < 0.001)]\n",
    "    sxs_compt = sxs_df[[\"reference_mass_ratio\", 'reference_dimensionless_spin1_mag', 'reference_dimensionless_spin2_mag',\n",
    "                        \"reference_eccentricity\", \"reference_chi1_perp\", \"reference_chi2_perp\"]]\n",
    "    pd.set_option(\"display.max_rows\", 10)\n",
    "    SXS_num_list = [str[8:] for str in relevant_sims.index.to_list()]\n",
    "    # screen\n",
    "    SXS_num_screened = []\n",
    "\n",
    "    for SXS_num in SXS_num_list:\n",
    "        if \"0209\" <= SXS_num <= \"0305\" or \"1419\" <= SXS_num <= \"1509\":\n",
    "            SXS_num_screened.append(SXS_num)\n",
    "        #     pass\n",
    "        # else:\n",
    "        #     SXS_num_screened.append(SXS_num)"
   ]
  },
  {
   "cell_type": "code",
   "execution_count": 5,
   "metadata": {},
   "outputs": [],
   "source": [
    "runname = \"normal2_prodB1\"\n",
    "setting_name = \"normal2\"\n",
    "flags = \"-l\"\n",
    "if CCE:\n",
    "    flags += \" -cce\"\n",
    "\n",
    "os.makedirs(os.path.join(SLURM_PATH, f\"slurm_out/{cat_name}_fit_{runname}\"), exist_ok=True)"
   ]
  },
  {
   "cell_type": "code",
   "execution_count": 6,
   "metadata": {},
   "outputs": [],
   "source": [
    "SXS_list_path = os.path.join(SLURM_PATH, f\"{cat_name}_list_{runname}.txt\")\n",
    "\n",
    "with open(SXS_list_path, \"w\") as f:\n",
    "    for SXS_num in SXS_num_screened:\n",
    "        f.write(f\"{SXS_num}\\n\")"
   ]
  },
  {
   "cell_type": "code",
   "execution_count": 13,
   "metadata": {},
   "outputs": [],
   "source": [
    "slurm_script = f\"\"\"#!/bin/bash\n",
    "#SBATCH --job-name=\"{cat_name}_fit_{runname}\"\n",
    "#SBATCH --output=\"./slurm_out/{cat_name}_fit_{runname}/{cat_name}_fit_{runname}.%A.%a.out\"\n",
    "#SBATCH --partition=shared\n",
    "#SBATCH --nodes=1\n",
    "#SBATCH --ntasks-per-node=1\n",
    "#SBATCH --cpus-per-task=1\n",
    "#SBATCH --mem=4Gb\n",
    "#SBATCH --account=cit122\n",
    "#SBATCH -t 48:00:00\n",
    "#SBATCH --mail-type=ALL\n",
    "#SBATCH --mail-user=hcheung5@jhu.edu\n",
    "#SBATCH --array=0-{len(SXS_num_screened)-1}\n",
    "\n",
    "pwd; hostname; date\n",
    "\n",
    "source /home/mcheung1/Ringdown/jaxqualin/bin/activate\n",
    "export PYTHONPATH=$PYTHONPATH:/home/mcheung1/Ringdown/jaxqualin/Jaxqualin\n",
    "\n",
    "mapfile -t {cat_name}_nums < {SXS_list_path}\n",
    "\n",
    "python /home/mcheung1/Ringdown/jaxqualin/Jaxqualin/SXS_fit.py\"\"\"\\\n",
    "+ r\" ${\" + f\"{cat_name}\" + r\"_nums[$SLURM_ARRAY_TASK_ID]} \"\\\n",
    "+ f\"\"\"{setting_name} {runname} {flags}\n",
    "\n",
    "date\"\"\""
   ]
  },
  {
   "cell_type": "code",
   "execution_count": 14,
   "metadata": {},
   "outputs": [],
   "source": [
    "slurm_script_path = os.path.join(SLURM_PATH, f\"{cat_name}_fit_{runname}.sbatch\")\n",
    "\n",
    "with open(slurm_script_path, \"w\") as f:\n",
    "    f.write(slurm_script)"
   ]
  },
  {
   "cell_type": "code",
   "execution_count": null,
   "metadata": {},
   "outputs": [],
   "source": []
  }
 ],
 "metadata": {
  "kernelspec": {
   "display_name": "jaxqualin",
   "language": "python",
   "name": "python3"
  },
  "language_info": {
   "codemirror_mode": {
    "name": "ipython",
    "version": 3
   },
   "file_extension": ".py",
   "mimetype": "text/x-python",
   "name": "python",
   "nbconvert_exporter": "python",
   "pygments_lexer": "ipython3",
   "version": "3.8.5"
  },
  "orig_nbformat": 4
 },
 "nbformat": 4,
 "nbformat_minor": 2
}
