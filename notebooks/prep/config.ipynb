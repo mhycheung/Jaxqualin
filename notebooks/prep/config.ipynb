{
 "cells": [
  {
   "cell_type": "code",
   "execution_count": 1,
   "metadata": {},
   "outputs": [],
   "source": [
    "import configparser\n",
    "import os\n",
    "import numpy as np\n",
    "\n",
    "ROOT_PATH = globals()['_dh'][0]\n",
    "CONFIG_PATH = os.path.join(ROOT_PATH, \"config\")\n"
   ]
  },
  {
   "cell_type": "code",
   "execution_count": 2,
   "metadata": {},
   "outputs": [],
   "source": [
    "setting_name = \"normal3\"\n",
    "\n",
    "config_file_path = os.path.join(CONFIG_PATH, f\"{setting_name}.ini\")\n",
    "config = configparser.ConfigParser()\n",
    "config.optionxform = str"
   ]
  },
  {
   "cell_type": "code",
   "execution_count": 3,
   "metadata": {},
   "outputs": [],
   "source": [
    "config[\"basic\"] = {\n",
    "    \"N_list\" : \"[5, 6, 7, 8, 9, 10]\",\n",
    "    \"set_seed_SXS\" : True\n",
    "}\n",
    "\n",
    "config[\"flatness_checker\"] = {\n",
    "    \"flatness_tol\": 0.2,\n",
    "    \"flatness_range\": 10,\n",
    "    \"confusion_tol\": 0.03, \n",
    "    \"quantile_range\": 0.95,\n",
    "    \"med_min\" : 1e-3,\n",
    "    \"weight_1\": 1.0,\n",
    "    \"weight_2\": 1.5\n",
    "}\n",
    "\n",
    "config[\"mode_searcher\"] = {\n",
    "    \"a_recoil_tol\": 0., \n",
    "    \"omega_r_tol\" : 0.05, \n",
    "    \"omega_i_tol\" : 0.05,\n",
    "    \"t_tol\" : 10, \n",
    "    \"fraction_tol\" : 0.95,\n",
    "    'fit_kwargs' : {'xtol' : 1e-11, 'gtol' : 1e-11, 'ftol' : 1e-11}, \n",
    "    \"max_nfev\" : 200000,\n",
    "    \"initial_num\" : 10,\n",
    "    \"random_initial\" : True,\n",
    "    \"initial_dict\" : {\"A_log_low\" : -1, \"A_log_hi\" : 1, \n",
    "                      \"phi_low\" : 0, \"phi_hi\" : 2*np.pi,\n",
    "                       \"omega_r_low\" : -2, \"omega_r_hi\" : 2, \n",
    "                       \"omega_i_low\" : 0, \"omega_i_hi\" : -1},\n",
    "    \"A_guess_relative\" : False\n",
    "}"
   ]
  },
  {
   "cell_type": "code",
   "execution_count": 4,
   "metadata": {},
   "outputs": [],
   "source": [
    "with open(config_file_path, 'w') as f:\n",
    "    config.write(f)"
   ]
  },
  {
   "cell_type": "code",
   "execution_count": null,
   "metadata": {},
   "outputs": [],
   "source": []
  }
 ],
 "metadata": {
  "kernelspec": {
   "display_name": "jaxqualin",
   "language": "python",
   "name": "python3"
  },
  "language_info": {
   "codemirror_mode": {
    "name": "ipython",
    "version": 3
   },
   "file_extension": ".py",
   "mimetype": "text/x-python",
   "name": "python",
   "nbconvert_exporter": "python",
   "pygments_lexer": "ipython3",
   "version": "3.8.5"
  },
  "orig_nbformat": 4,
  "vscode": {
   "interpreter": {
    "hash": "8e8c09a15a5a02be282e31b9023ede7777743d0ee801722d6e1b712aa64b255d"
   }
  }
 },
 "nbformat": 4,
 "nbformat_minor": 2
}
