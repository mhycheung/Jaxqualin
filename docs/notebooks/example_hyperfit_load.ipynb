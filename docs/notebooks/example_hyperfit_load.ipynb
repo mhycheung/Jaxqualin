{
 "cells": [
  {
   "cell_type": "markdown",
   "metadata": {},
   "source": [
    "# Load Hyperfit functions and interpolator  \n",
    "\n",
    "In this example we will call the hyperfit functions (listed in the `jaxqualin` paper) and corresponding interpolators to estimate the amplitudes and phases of different modes, as a function of the binary black hole simulation parameters.\n",
    "The hyperfit polynomial terms and interpolation data might be updated in future versions of the paper."
   ]
  },
  {
   "cell_type": "markdown",
   "metadata": {},
   "source": [
    "### Import functions"
   ]
  },
  {
   "cell_type": "code",
   "execution_count": 1,
   "metadata": {},
   "outputs": [],
   "source": [
    "from jaxqualin.data import (download_hyperfit_data, \n",
    "                            download_interpolate_data,\n",
    "                            make_hyper_fit_functions,\n",
    "                            make_interpolators)"
   ]
  },
  {
   "cell_type": "markdown",
   "metadata": {},
   "source": [
    "### Download data\n",
    "\n",
    "By default, the download functions compares the local version of the data with the one hosted on this webpage. \n",
    "If the online one is newer, it will be downloaded and the local version will be overriden.\n",
    "Use `overwrite = 'force'` to force overwrite, and `never` to avoid overwriting."
   ]
  },
  {
   "cell_type": "code",
   "execution_count": 2,
   "metadata": {},
   "outputs": [
    {
     "name": "stdout",
     "output_type": "stream",
     "text": [
      "Downloading data file from https://mhycheung.github.io/jaxqualin/data/hyperfit_functions_latest.json to /home/markc/Jaxqualin/docs/notebooks/.jaxqualin_cache/data/hyperfit_functions_latest.json\n",
      "Downloading data file from https://mhycheung.github.io/jaxqualin/data/interpolate_data_latest.json to /home/markc/Jaxqualin/docs/notebooks/.jaxqualin_cache/data/interpolate_data_latest.json\n"
     ]
    }
   ],
   "source": [
    "download_hyperfit_data()\n",
    "download_interpolate_data()"
   ]
  },
  {
   "cell_type": "markdown",
   "metadata": {},
   "source": [
    "### Make hyperfit functions and interpolators\n",
    "\n",
    "Now we convert the downloaded data into functions and interpolators that we can easily call."
   ]
  },
  {
   "cell_type": "code",
   "execution_count": 3,
   "metadata": {},
   "outputs": [],
   "source": [
    "hyperfit_functions = make_hyper_fit_functions()\n",
    "hyper_interpolators = make_interpolators()"
   ]
  },
  {
   "cell_type": "markdown",
   "metadata": {},
   "source": [
    "## Estimating the amplitude and phase\n",
    "\n",
    "We can estimate the amplitude and phase for a set of progenitor parameters $(\\eta, \\chi_+, \\chi_-)$. \n",
    "All is well if the hyperfit and interpolation returns similar results. "
   ]
  },
  {
   "cell_type": "code",
   "execution_count": 4,
   "metadata": {},
   "outputs": [
    {
     "name": "stdout",
     "output_type": "stream",
     "text": [
      "A_fit: 3.46540, A_interp: 3.52040\n",
      "phi_fit: 4.46984, phi_interp: 4.53029\n"
     ]
    }
   ],
   "source": [
    "mode_name = '2.2.1'\n",
    "\n",
    "eta, chi_p, chi_m = 0.2, 0.1, 0.4\n",
    "A_fit = hyperfit_functions[mode_name]['A'](eta, chi_p, chi_m)\n",
    "A_interp = hyper_interpolators[mode_name]['A'](eta, chi_p, chi_m)\n",
    "phi_fit = hyperfit_functions[mode_name]['phi'](eta, chi_p, chi_m)\n",
    "phi_interp = hyper_interpolators[mode_name]['phi'](eta, chi_p, chi_m)\n",
    "\n",
    "print(f'A_fit: {A_fit:.5f}, A_interp: {A_interp:.5f}')\n",
    "print(f'phi_fit: {phi_fit:.5f}, phi_interp: {phi_interp:.5f}')"
   ]
  },
  {
   "cell_type": "markdown",
   "metadata": {},
   "source": [
    "The interpolator returns `nan` if the requested point is outside of the convex hull of the interpolation data. \n",
    "This can be used to check whether the hyperfit is extrapolating at the point, because the fit is trained with the same data used to construct the interpolator.\n",
    "If the point is not covered by the convex hull, it could be because no simulations in the SXS catalog covers that region of the parameter space, or the mode amplitude is too weak (such that the mode extraction procedure missed the mode)."
   ]
  },
  {
   "cell_type": "code",
   "execution_count": 5,
   "metadata": {},
   "outputs": [
    {
     "name": "stdout",
     "output_type": "stream",
     "text": [
      "A_fit: 10.37139, A_interp: nan\n",
      "phi_fit: 6.87546, phi_interp: nan\n"
     ]
    }
   ],
   "source": [
    "eta, chi_p, chi_m = 0.1, 0.9, -0.9\n",
    "A_fit = hyperfit_functions[mode_name]['A'](eta, chi_p, chi_m)\n",
    "A_interp = hyper_interpolators[mode_name]['A'](eta, chi_p, chi_m)\n",
    "phi_fit = hyperfit_functions[mode_name]['phi'](eta, chi_p, chi_m)\n",
    "phi_interp = hyper_interpolators[mode_name]['phi'](eta, chi_p, chi_m)\n",
    "\n",
    "print(f'A_fit: {A_fit:.5f}, A_interp: {A_interp:.5f}')\n",
    "print(f'phi_fit: {phi_fit:.5f}, phi_interp: {phi_interp:.5f}')"
   ]
  },
  {
   "cell_type": "markdown",
   "metadata": {},
   "source": [
    "When the hyperfit and interpolation returns significantly different results, care should be taken.\n",
    "The mode amplitude might be too small for the hyperfit to work accurately, and the results in these regions of parameter space should at most be used as an order of magnitude estimation.\n",
    "In fact, the hyperfit amplitude could even be negative, if the mode amplitude is too low."
   ]
  },
  {
   "cell_type": "code",
   "execution_count": 6,
   "metadata": {},
   "outputs": [
    {
     "name": "stdout",
     "output_type": "stream",
     "text": [
      "A_fit: 7.61902e-05, A_interp: 1.32367e-04\n",
      "phi_fit: 5.68904, phi_interp: 5.76627\n"
     ]
    }
   ],
   "source": [
    "mode_name = '-2.2.0'\n",
    "\n",
    "eta, chi_p, chi_m = 0.2, -0.1, 0.4\n",
    "A_fit = hyperfit_functions[mode_name]['A'](eta, chi_p, chi_m)\n",
    "A_interp = hyper_interpolators[mode_name]['A'](eta, chi_p, chi_m)\n",
    "phi_fit = hyperfit_functions[mode_name]['phi'](eta, chi_p, chi_m)\n",
    "phi_interp = hyper_interpolators[mode_name]['phi'](eta, chi_p, chi_m)\n",
    "\n",
    "print(f'A_fit: {A_fit:.5e}, A_interp: {A_interp:.5e}')\n",
    "print(f'phi_fit: {phi_fit:.5f}, phi_interp: {phi_interp:.5f}')"
   ]
  },
  {
   "cell_type": "markdown",
   "metadata": {},
   "source": [
    "We can also interpolate the fluctuation of the mode amplitude and phase when they were extracted with our procedure"
   ]
  },
  {
   "cell_type": "code",
   "execution_count": 7,
   "metadata": {},
   "outputs": [
    {
     "name": "stdout",
     "output_type": "stream",
     "text": [
      "dA_interp: 2.87685e-05, dphi_interp: 0.23975\n"
     ]
    }
   ],
   "source": [
    "dA_interp = hyper_interpolators[mode_name]['dA'](eta, chi_p, chi_m)\n",
    "dphi_interp = hyper_interpolators[mode_name]['dphi'](eta, chi_p, chi_m)\n",
    "\n",
    "print(f'dA_interp: {dA_interp:.5e}, dphi_interp: {dphi_interp:.5f}')"
   ]
  },
  {
   "cell_type": "markdown",
   "metadata": {},
   "source": [
    "### Changing parameterization\n",
    "\n",
    "By specifying `PN = False`, we can use the $(q, \\chi_1, \\chi_2)$ parameterization instead of $(\\eta, \\chi_+, \\chi_-)$"
   ]
  },
  {
   "cell_type": "code",
   "execution_count": 8,
   "metadata": {},
   "outputs": [],
   "source": [
    "hyperfit_functions = make_hyper_fit_functions(PN = False)\n",
    "hyper_interpolators = make_interpolators(PN = False)"
   ]
  },
  {
   "cell_type": "code",
   "execution_count": 9,
   "metadata": {},
   "outputs": [
    {
     "name": "stdout",
     "output_type": "stream",
     "text": [
      "A_fit: 3.35743, A_interp: 3.38756\n",
      "phi_fit: 4.53457, phi_interp: 4.58072\n"
     ]
    }
   ],
   "source": [
    "mode_name = '2.2.1'\n",
    "\n",
    "q, chi_1, chi_2 = 2.3, 0.2, -0.2\n",
    "A_fit = hyperfit_functions[mode_name]['A'](q, chi_1, chi_2)\n",
    "A_interp = hyper_interpolators[mode_name]['A'](q, chi_1, chi_2)\n",
    "phi_fit = hyperfit_functions[mode_name]['phi'](q, chi_1, chi_2)\n",
    "phi_interp = hyper_interpolators[mode_name]['phi'](q, chi_1, chi_2)\n",
    "\n",
    "print(f'A_fit: {A_fit:.5f}, A_interp: {A_interp:.5f}')\n",
    "print(f'phi_fit: {phi_fit:.5f}, phi_interp: {phi_interp:.5f}')"
   ]
  }
 ],
 "metadata": {
  "kernelspec": {
   "display_name": "jaxqualin",
   "language": "python",
   "name": "python3"
  },
  "language_info": {
   "codemirror_mode": {
    "name": "ipython",
    "version": 3
   },
   "file_extension": ".py",
   "mimetype": "text/x-python",
   "name": "python",
   "nbconvert_exporter": "python",
   "pygments_lexer": "ipython3",
   "version": "3.9.2"
  },
  "orig_nbformat": 4
 },
 "nbformat": 4,
 "nbformat_minor": 2
}
